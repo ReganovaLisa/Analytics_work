{
  "cells": [
    {
      "cell_type": "code",
      "execution_count": 1,
      "id": "ad036f1a",
      "metadata": {
        "id": "ad036f1a"
      },
      "outputs": [],
      "source": [
        "import numpy as np\n",
        "import pandas as pd\n",
        "import matplotlib.pyplot as plt\n",
        "import seaborn as sns\n",
        "import scipy.stats as sps\n",
        "import pingouin as pg\n",
        "\n",
        "from sklearn.linear_model import LinearRegression\n",
        "\n",
        "from statsmodels.stats import multitest, multicomp\n",
        "import statsmodels.formula.api as smf\n",
        "\n",
        "from statsmodels.sandbox.stats.multicomp import multipletests\n",
        "import math\n",
        "from scipy.special import logit\n",
        "\n",
        "sns.set(font_scale=1.3)"
      ]
    },
    {
      "cell_type": "markdown",
      "id": "e8992f0c",
      "metadata": {
        "id": "e8992f0c"
      },
      "source": [
        "\n",
        "\n",
        "Data is presented in [github](https://github.com/OrsolyaVincze/VinczeEtal2021Nature)"
      ]
    },
    {
      "cell_type": "code",
      "execution_count": 2,
      "id": "177376b6",
      "metadata": {
        "id": "177376b6"
      },
      "outputs": [],
      "source": [
        "df = pd.read_csv('data.csv')"
      ]
    },
    {
      "cell_type": "markdown",
      "id": "14fd43a9",
      "metadata": {
        "id": "14fd43a9"
      },
      "source": [
        "data.csv - Database containing species-specific cancer mortality risk, sample sizes, diet, body mass, sexual maturity and adult life expectancy. Included variables are as follows:\n",
        "\n",
        "Species     \t- Binomial scientific name of the taxa\n",
        "\n",
        "order       \t- Taxonomic order of the species\n",
        "\n",
        "FemaleMeanMass \t- Average body mass of adult females (kg)\n",
        "\n",
        "MaleMeanMass   \t- Average body mass of adult males (kg)\n",
        "\n",
        "CMR\t       \t- Adult cancer mortality risk. The variable takes values between 0 and 1.\n",
        "\n",
        "ICM\t       \t- Incidence of cancer mortality in adults. The variable takes values between 0 and 1.\n",
        "\n",
        "lifeexp\t       \t- Average number of days lived after sexual maturity was reached, i.e. remaining life expectancy.\n",
        "\n",
        "Sample\t       \t- Total number of individuals per species in the database.\n",
        "\n",
        "Deaths\t       \t- Total number of dead individuals per species in the database.\n",
        "\n",
        "Neoplasia\t- Total number of neoplasia cases recorded in each species, that were considered to be significant contributors to the death of the animals. Please note that (although possible) benign tumors are unlikely to be reported here.\n",
        "\n",
        "knownDeaths\t- Total number of dead individuals whose pathological records (i.e. most likely causes of death) were identified and entered in the husbandry database.\n",
        "\n",
        "Animal\t        - Animal presence (1) or absence (0) in the diet. Following: Kissling et al. Ecol. Evol. 4, 2913–2930 (2014).\n",
        "\n",
        "Vertebrate\t- Vertebrate prey presence (1) or absence (0) in the diet. Following: Kissling et al. Ecol. Evol. 4, 2913–2930 (2014).\n",
        "\n",
        "Invertebrate\t- Invertebrate prey presence (1) or absence (0) in the diet. Following: Kissling et al. Ecol. Evol. 4, 2913–2930 (2014).\n",
        "\n",
        "Fish\t        - Fish prey presence (1) or absence (0) in the diet. Following: Kissling et al. Ecol. Evol. 4, 2913–2930 (2014).\n",
        "\n",
        "Herptile\t- Reptile prey presence (1) or absence (0) in the diet. Following: Kissling et al. Ecol. Evol. 4, 2913–2930 (2014).\n",
        "\n",
        "Bird\t        - Bird prey presence (1) or absence (0) in the diet. Following: Kissling et al. Ecol. Evol. 4, 2913–2930 (2014).\n",
        "\n",
        "Mammal          - Mammalian prey presence (1) or absence (0) in the diet. Following: Kissling et al. Ecol. Evol. 4, 2913–2930 (2014).\n"
      ]
    },
    {
      "cell_type": "code",
      "execution_count": 4,
      "id": "9c70e0f8",
      "metadata": {
        "colab": {
          "base_uri": "https://localhost:8080/",
          "height": 287
        },
        "id": "9c70e0f8",
        "outputId": "3757aafa-b3f1-41aa-baaf-751036db4c4a"
      },
      "outputs": [
        {
          "data": {
            "text/html": [
              "\n",
              "  <div id=\"df-9e1ac1bd-f2c5-4c41-9c7a-7c346736792d\">\n",
              "    <div class=\"colab-df-container\">\n",
              "      <div>\n",
              "<style scoped>\n",
              "    .dataframe tbody tr th:only-of-type {\n",
              "        vertical-align: middle;\n",
              "    }\n",
              "\n",
              "    .dataframe tbody tr th {\n",
              "        vertical-align: top;\n",
              "    }\n",
              "\n",
              "    .dataframe thead th {\n",
              "        text-align: right;\n",
              "    }\n",
              "</style>\n",
              "<table border=\"1\" class=\"dataframe\">\n",
              "  <thead>\n",
              "    <tr style=\"text-align: right;\">\n",
              "      <th></th>\n",
              "      <th>Unnamed: 0</th>\n",
              "      <th>Species</th>\n",
              "      <th>order</th>\n",
              "      <th>FemaleMeanMass</th>\n",
              "      <th>MaleMeanMass</th>\n",
              "      <th>CMR</th>\n",
              "      <th>ICM</th>\n",
              "      <th>lifeexp</th>\n",
              "      <th>Sample</th>\n",
              "      <th>Deaths</th>\n",
              "      <th>Neoplasia</th>\n",
              "      <th>knownDeaths</th>\n",
              "      <th>Animal</th>\n",
              "      <th>Vertebrate</th>\n",
              "      <th>Invertebrate</th>\n",
              "      <th>Fish</th>\n",
              "      <th>Herptile</th>\n",
              "      <th>Bird</th>\n",
              "      <th>Mammal</th>\n",
              "    </tr>\n",
              "  </thead>\n",
              "  <tbody>\n",
              "    <tr>\n",
              "      <th>0</th>\n",
              "      <td>1</td>\n",
              "      <td>Acinonyx_jubatus</td>\n",
              "      <td>Carnivora</td>\n",
              "      <td>39.906168</td>\n",
              "      <td>45.193976</td>\n",
              "      <td>0.035556</td>\n",
              "      <td>0.041555</td>\n",
              "      <td>3533.859621</td>\n",
              "      <td>1560</td>\n",
              "      <td>649</td>\n",
              "      <td>8</td>\n",
              "      <td>225</td>\n",
              "      <td>1.0</td>\n",
              "      <td>1.0</td>\n",
              "      <td>0.0</td>\n",
              "      <td>0.0</td>\n",
              "      <td>0.0</td>\n",
              "      <td>0.0</td>\n",
              "      <td>1.0</td>\n",
              "    </tr>\n",
              "    <tr>\n",
              "      <th>1</th>\n",
              "      <td>2</td>\n",
              "      <td>Addax_nasomaculatus</td>\n",
              "      <td>Artiodactyla</td>\n",
              "      <td>102.281106</td>\n",
              "      <td>118.985007</td>\n",
              "      <td>0.035714</td>\n",
              "      <td>0.061624</td>\n",
              "      <td>3127.886214</td>\n",
              "      <td>762</td>\n",
              "      <td>336</td>\n",
              "      <td>3</td>\n",
              "      <td>84</td>\n",
              "      <td>0.0</td>\n",
              "      <td>0.0</td>\n",
              "      <td>0.0</td>\n",
              "      <td>0.0</td>\n",
              "      <td>0.0</td>\n",
              "      <td>0.0</td>\n",
              "      <td>0.0</td>\n",
              "    </tr>\n",
              "    <tr>\n",
              "      <th>2</th>\n",
              "      <td>3</td>\n",
              "      <td>Aepyceros_melampus</td>\n",
              "      <td>Artiodactyla</td>\n",
              "      <td>42.373844</td>\n",
              "      <td>53.925686</td>\n",
              "      <td>0.057325</td>\n",
              "      <td>0.141182</td>\n",
              "      <td>2465.892908</td>\n",
              "      <td>1007</td>\n",
              "      <td>537</td>\n",
              "      <td>9</td>\n",
              "      <td>157</td>\n",
              "      <td>0.0</td>\n",
              "      <td>0.0</td>\n",
              "      <td>0.0</td>\n",
              "      <td>0.0</td>\n",
              "      <td>0.0</td>\n",
              "      <td>0.0</td>\n",
              "      <td>0.0</td>\n",
              "    </tr>\n",
              "    <tr>\n",
              "      <th>3</th>\n",
              "      <td>4</td>\n",
              "      <td>Ailurus_fulgens</td>\n",
              "      <td>Carnivora</td>\n",
              "      <td>5.921639</td>\n",
              "      <td>6.029143</td>\n",
              "      <td>0.070707</td>\n",
              "      <td>0.073361</td>\n",
              "      <td>3580.261306</td>\n",
              "      <td>1068</td>\n",
              "      <td>421</td>\n",
              "      <td>7</td>\n",
              "      <td>99</td>\n",
              "      <td>0.0</td>\n",
              "      <td>0.0</td>\n",
              "      <td>0.0</td>\n",
              "      <td>0.0</td>\n",
              "      <td>0.0</td>\n",
              "      <td>0.0</td>\n",
              "      <td>0.0</td>\n",
              "    </tr>\n",
              "    <tr>\n",
              "      <th>4</th>\n",
              "      <td>5</td>\n",
              "      <td>Alces_alces</td>\n",
              "      <td>Artiodactyla</td>\n",
              "      <td>292.792354</td>\n",
              "      <td>397.025427</td>\n",
              "      <td>0.000000</td>\n",
              "      <td>0.000000</td>\n",
              "      <td>2103.783182</td>\n",
              "      <td>246</td>\n",
              "      <td>147</td>\n",
              "      <td>0</td>\n",
              "      <td>33</td>\n",
              "      <td>0.0</td>\n",
              "      <td>0.0</td>\n",
              "      <td>0.0</td>\n",
              "      <td>0.0</td>\n",
              "      <td>0.0</td>\n",
              "      <td>0.0</td>\n",
              "      <td>0.0</td>\n",
              "    </tr>\n",
              "  </tbody>\n",
              "</table>\n",
              "</div>\n",
              "      <button class=\"colab-df-convert\" onclick=\"convertToInteractive('df-9e1ac1bd-f2c5-4c41-9c7a-7c346736792d')\"\n",
              "              title=\"Convert this dataframe to an interactive table.\"\n",
              "              style=\"display:none;\">\n",
              "        \n",
              "  <svg xmlns=\"http://www.w3.org/2000/svg\" height=\"24px\"viewBox=\"0 0 24 24\"\n",
              "       width=\"24px\">\n",
              "    <path d=\"M0 0h24v24H0V0z\" fill=\"none\"/>\n",
              "    <path d=\"M18.56 5.44l.94 2.06.94-2.06 2.06-.94-2.06-.94-.94-2.06-.94 2.06-2.06.94zm-11 1L8.5 8.5l.94-2.06 2.06-.94-2.06-.94L8.5 2.5l-.94 2.06-2.06.94zm10 10l.94 2.06.94-2.06 2.06-.94-2.06-.94-.94-2.06-.94 2.06-2.06.94z\"/><path d=\"M17.41 7.96l-1.37-1.37c-.4-.4-.92-.59-1.43-.59-.52 0-1.04.2-1.43.59L10.3 9.45l-7.72 7.72c-.78.78-.78 2.05 0 2.83L4 21.41c.39.39.9.59 1.41.59.51 0 1.02-.2 1.41-.59l7.78-7.78 2.81-2.81c.8-.78.8-2.07 0-2.86zM5.41 20L4 18.59l7.72-7.72 1.47 1.35L5.41 20z\"/>\n",
              "  </svg>\n",
              "      </button>\n",
              "      \n",
              "  <style>\n",
              "    .colab-df-container {\n",
              "      display:flex;\n",
              "      flex-wrap:wrap;\n",
              "      gap: 12px;\n",
              "    }\n",
              "\n",
              "    .colab-df-convert {\n",
              "      background-color: #E8F0FE;\n",
              "      border: none;\n",
              "      border-radius: 50%;\n",
              "      cursor: pointer;\n",
              "      display: none;\n",
              "      fill: #1967D2;\n",
              "      height: 32px;\n",
              "      padding: 0 0 0 0;\n",
              "      width: 32px;\n",
              "    }\n",
              "\n",
              "    .colab-df-convert:hover {\n",
              "      background-color: #E2EBFA;\n",
              "      box-shadow: 0px 1px 2px rgba(60, 64, 67, 0.3), 0px 1px 3px 1px rgba(60, 64, 67, 0.15);\n",
              "      fill: #174EA6;\n",
              "    }\n",
              "\n",
              "    [theme=dark] .colab-df-convert {\n",
              "      background-color: #3B4455;\n",
              "      fill: #D2E3FC;\n",
              "    }\n",
              "\n",
              "    [theme=dark] .colab-df-convert:hover {\n",
              "      background-color: #434B5C;\n",
              "      box-shadow: 0px 1px 3px 1px rgba(0, 0, 0, 0.15);\n",
              "      filter: drop-shadow(0px 1px 2px rgba(0, 0, 0, 0.3));\n",
              "      fill: #FFFFFF;\n",
              "    }\n",
              "  </style>\n",
              "\n",
              "      <script>\n",
              "        const buttonEl =\n",
              "          document.querySelector('#df-9e1ac1bd-f2c5-4c41-9c7a-7c346736792d button.colab-df-convert');\n",
              "        buttonEl.style.display =\n",
              "          google.colab.kernel.accessAllowed ? 'block' : 'none';\n",
              "\n",
              "        async function convertToInteractive(key) {\n",
              "          const element = document.querySelector('#df-9e1ac1bd-f2c5-4c41-9c7a-7c346736792d');\n",
              "          const dataTable =\n",
              "            await google.colab.kernel.invokeFunction('convertToInteractive',\n",
              "                                                     [key], {});\n",
              "          if (!dataTable) return;\n",
              "\n",
              "          const docLinkHtml = 'Like what you see? Visit the ' +\n",
              "            '<a target=\"_blank\" href=https://colab.research.google.com/notebooks/data_table.ipynb>data table notebook</a>'\n",
              "            + ' to learn more about interactive tables.';\n",
              "          element.innerHTML = '';\n",
              "          dataTable['output_type'] = 'display_data';\n",
              "          await google.colab.output.renderOutput(dataTable, element);\n",
              "          const docLink = document.createElement('div');\n",
              "          docLink.innerHTML = docLinkHtml;\n",
              "          element.appendChild(docLink);\n",
              "        }\n",
              "      </script>\n",
              "    </div>\n",
              "  </div>\n",
              "  "
            ],
            "text/plain": [
              "   Unnamed: 0              Species         order  FemaleMeanMass  \\\n",
              "0           1     Acinonyx_jubatus     Carnivora       39.906168   \n",
              "1           2  Addax_nasomaculatus  Artiodactyla      102.281106   \n",
              "2           3   Aepyceros_melampus  Artiodactyla       42.373844   \n",
              "3           4      Ailurus_fulgens     Carnivora        5.921639   \n",
              "4           5          Alces_alces  Artiodactyla      292.792354   \n",
              "\n",
              "   MaleMeanMass       CMR       ICM      lifeexp  Sample  Deaths  Neoplasia  \\\n",
              "0     45.193976  0.035556  0.041555  3533.859621    1560     649          8   \n",
              "1    118.985007  0.035714  0.061624  3127.886214     762     336          3   \n",
              "2     53.925686  0.057325  0.141182  2465.892908    1007     537          9   \n",
              "3      6.029143  0.070707  0.073361  3580.261306    1068     421          7   \n",
              "4    397.025427  0.000000  0.000000  2103.783182     246     147          0   \n",
              "\n",
              "   knownDeaths  Animal  Vertebrate  Invertebrate  Fish  Herptile  Bird  Mammal  \n",
              "0          225     1.0         1.0           0.0   0.0       0.0   0.0     1.0  \n",
              "1           84     0.0         0.0           0.0   0.0       0.0   0.0     0.0  \n",
              "2          157     0.0         0.0           0.0   0.0       0.0   0.0     0.0  \n",
              "3           99     0.0         0.0           0.0   0.0       0.0   0.0     0.0  \n",
              "4           33     0.0         0.0           0.0   0.0       0.0   0.0     0.0  "
            ]
          },
          "execution_count": 4,
          "metadata": {},
          "output_type": "execute_result"
        }
      ],
      "source": [
        "df.head()"
      ]
    },
    {
      "cell_type": "code",
      "execution_count": 3,
      "id": "d7c3c4d5",
      "metadata": {
        "colab": {
          "base_uri": "https://localhost:8080/"
        },
        "id": "d7c3c4d5",
        "outputId": "9d55e6a7-3f36-49ad-95af-4a47a10bff5c"
      },
      "outputs": [
        {
          "data": {
            "text/plain": [
              "Index(['Species', 'order', 'FemaleMeanMass', 'MaleMeanMass', 'CMR', 'ICM',\n",
              "       'lifeexp', 'Sample', 'Deaths', 'Neoplasia', 'knownDeaths', 'Animal',\n",
              "       'Vertebrate', 'Invertebrate', 'Fish', 'Herptile', 'Bird', 'Mammal'],\n",
              "      dtype='object')"
            ]
          },
          "execution_count": 3,
          "metadata": {},
          "output_type": "execute_result"
        }
      ],
      "source": [
        "df.drop('Unnamed: 0', axis=1, inplace=True)  \n",
        "df.columns"
      ]
    },
    {
      "cell_type": "code",
      "execution_count": 4,
      "id": "b1ca6c53",
      "metadata": {
        "id": "b1ca6c53"
      },
      "outputs": [],
      "source": [
        "df['bodyMass'] = (df['FemaleMeanMass'] + df['MaleMeanMass'])/2\n",
        "df.lifeexp /= 365"
      ]
    },
    {
      "cell_type": "markdown",
      "id": "90454101",
      "metadata": {
        "id": "90454101"
      },
      "source": [
        "### The dependence of cancer risk on belonging to an order"
      ]
    },
    {
      "cell_type": "markdown",
      "id": "07d0a320",
      "metadata": {
        "id": "07d0a320"
      },
      "source": [
        "Let's look whether CMR and ICM correlate each other"
      ]
    },
    {
      "cell_type": "code",
      "execution_count": 37,
      "id": "47ba4145",
      "metadata": {
        "colab": {
          "base_uri": "https://localhost:8080/",
          "height": 585
        },
        "id": "47ba4145",
        "outputId": "db43c518-02d0-40cc-ac71-606706f15b81"
      },
      "outputs": [
        {
          "data": {
            "image/png": "[encoded data removed]",
            "text/plain": [
              "<Figure size 576x576 with 3 Axes>"
            ]
          },
          "metadata": {},
          "output_type": "display_data"
        }
      ],
      "source": [
        "\n",
        "sns.set_style('whitegrid')\n",
        "sns.jointplot(x='CMR', y='ICM', data=df, kind=\"scatter\",dropna=True,height=8)\n",
        "\n",
        "plt.show()"
      ]
    },
    {
      "cell_type": "code",
      "execution_count": 15,
      "id": "vW3n8SqLfO66",
      "metadata": {
        "colab": {
          "base_uri": "https://localhost:8080/"
        },
        "id": "vW3n8SqLfO66",
        "outputId": "df430a3d-2468-45fa-ca50-fc7d30ce0726"
      },
      "outputs": [
        {
          "data": {
            "text/plain": [
              "(191, 19)"
            ]
          },
          "execution_count": 15,
          "metadata": {},
          "output_type": "execute_result"
        }
      ],
      "source": [
        "df.shape"
      ]
    },
    {
      "cell_type": "code",
      "execution_count": 16,
      "id": "ClWVqc-1gDoK",
      "metadata": {
        "colab": {
          "base_uri": "https://localhost:8080/"
        },
        "id": "ClWVqc-1gDoK",
        "outputId": "b6af3b83-f8e3-4eea-a4b7-132ff6da80ab"
      },
      "outputs": [
        {
          "data": {
            "text/plain": [
              "ShapiroResult(statistic=0.7603750824928284, pvalue=2.3710585657883763e-16)"
            ]
          },
          "execution_count": 16,
          "metadata": {},
          "output_type": "execute_result"
        }
      ],
      "source": [
        "sps.shapiro(df['CMR'].dropna())"
      ]
    },
    {
      "cell_type": "code",
      "execution_count": 17,
      "id": "H002Fp0wgKLS",
      "metadata": {
        "colab": {
          "base_uri": "https://localhost:8080/"
        },
        "id": "H002Fp0wgKLS",
        "outputId": "e36893ce-893d-4467-96e1-91ce4a7cd5e0"
      },
      "outputs": [
        {
          "data": {
            "text/plain": [
              "ShapiroResult(statistic=0.785233736038208, pvalue=1.2957051982720718e-14)"
            ]
          },
          "execution_count": 17,
          "metadata": {},
          "output_type": "execute_result"
        }
      ],
      "source": [
        "sps.shapiro(df['ICM'].dropna())"
      ]
    },
    {
      "cell_type": "markdown",
      "id": "aY4bV0LRgP1H",
      "metadata": {
        "id": "aY4bV0LRgP1H"
      },
      "source": [
        "Samples are big enough with rejected hypotesis about normal distribution. So it's better to use Spearman correlation"
      ]
    },
    {
      "cell_type": "code",
      "execution_count": 103,
      "id": "PPWuTn_uhMrA",
      "metadata": {
        "colab": {
          "base_uri": "https://localhost:8080/"
        },
        "id": "PPWuTn_uhMrA",
        "outputId": "5fd87afd-c08a-4766-c7cd-0bca9c896271"
      },
      "outputs": [
        {
          "data": {
            "text/plain": [
              "SpearmanrResult(correlation=0.9286703935125468, pvalue=3.9145337445636546e-75)"
            ]
          },
          "execution_count": 103,
          "metadata": {},
          "output_type": "execute_result"
        }
      ],
      "source": [
        "\n",
        "sps.spearmanr(df[['CMR','ICM']].dropna()['CMR'], df[['CMR','ICM']].dropna()['ICM'])"
      ]
    },
    {
      "cell_type": "markdown",
      "id": "ac59ec23",
      "metadata": {
        "id": "ac59ec23"
      },
      "source": [
        "Positive correlation is observed. So it's possible to use only one of this parametrs. Let it be CMR"
      ]
    },
    {
      "cell_type": "code",
      "execution_count": 38,
      "id": "6b68e6ac",
      "metadata": {
        "colab": {
          "base_uri": "https://localhost:8080/"
        },
        "id": "6b68e6ac",
        "outputId": "4c4b8dd9-8664-4a4a-9521-36067c535003"
      },
      "outputs": [
        {
          "data": {
            "text/plain": [
              "order         \n",
              "Artiodactyla      65\n",
              "Primates          42\n",
              "Carnivora         41\n",
              "Rodentia          16\n",
              "Chiroptera         9\n",
              "Diprotodontia      6\n",
              "Perissodactyla     6\n",
              "Afrosoricida       1\n",
              "Dasyuromorphia     1\n",
              "Hyracoidea         1\n",
              "Macroscelidea      1\n",
              "Pilosa             1\n",
              "Scandentia         1\n",
              "dtype: int64"
            ]
          },
          "execution_count": 38,
          "metadata": {},
          "output_type": "execute_result"
        }
      ],
      "source": [
        "df.value_counts(subset=['order'])"
      ]
    },
    {
      "cell_type": "code",
      "execution_count": 5,
      "id": "UPSKJ3SVj2ei",
      "metadata": {
        "id": "UPSKJ3SVj2ei"
      },
      "outputs": [],
      "source": [
        "big_order=['Artiodactyla','Primates','Carnivora','Rodentia','Chiroptera','Diprotodontia','Perissodactyla']"
      ]
    },
    {
      "cell_type": "code",
      "execution_count": 6,
      "id": "cYkcm0hQqAKO",
      "metadata": {
        "id": "cYkcm0hQqAKO"
      },
      "outputs": [],
      "source": [
        "big_order_df= df[df['order'].isin(big_order)]\n"
      ]
    },
    {
      "cell_type": "code",
      "execution_count": 95,
      "id": "7d053905",
      "metadata": {
        "colab": {
          "base_uri": "https://localhost:8080/",
          "height": 861
        },
        "id": "7d053905",
        "outputId": "1524e2f1-0006-434f-85f4-e67a7fd08c3b"
      },
      "outputs": [
        {
          "name": "stderr",
          "output_type": "stream",
          "text": [
            "/usr/local/lib/python3.7/dist-packages/ipykernel_launcher.py:3: MatplotlibDeprecationWarning: Unrecognized location 'upperright'. Falling back on 'best'; valid locations are\n",
            "\tbest\n",
            "\tupper right\n",
            "\tupper left\n",
            "\tlower left\n",
            "\tlower right\n",
            "\tright\n",
            "\tcenter left\n",
            "\tcenter right\n",
            "\tlower center\n",
            "\tupper center\n",
            "\tcenter\n",
            "This will raise an exception in 3.3.\n",
            "  This is separate from the ipykernel package so we can avoid doing imports until\n"
          ]
        },
        {
          "data": {
            "image/png": "[encoded data removed]",
            "text/plain": [
              "<Figure size 1296x720 with 1 Axes>"
            ]
          },
          "metadata": {},
          "output_type": "display_data"
        }
      ],
      "source": [
        "plt.figure(figsize=(18,10))\n",
        "sns.violinplot(x=[\"\"]*len(big_order_df['CMR']), y=big_order_df['CMR'],hue=big_order_df['order'],inner='point')\n",
        "plt.legend(loc='upperright')\n",
        "\n",
        "#yposlist = big_order_df.groupby(['order'])['CMR'].median().tolist()\n",
        "#xposlist = range(len(yposlist))\n",
        "stringlist = ['n = 41','n = 65','n = 42','n = 6','n = 16','n = 9','n = 6']\n",
        "plt.xticks([-0.37,-0.25,-0.125,0,0.125,0.25,0.37], stringlist)\n",
        "#for i in range(len(stringlist)):\n",
        " #   ax.text(xposlist[i], yposlist[i], stringlist[i])\n",
        "plt.show()"
      ]
    },
    {
      "cell_type": "markdown",
      "id": "4aec09f2",
      "metadata": {
        "id": "4aec09f2"
      },
      "source": [
        "We can see that the median of the carnivores is skewed toward higher CMR values, and so is the interquartile range and outliers\n",
        "___"
      ]
    },
    {
      "cell_type": "code",
      "execution_count": 102,
      "id": "uZHfKfnkd05D",
      "metadata": {
        "colab": {
          "base_uri": "https://localhost:8080/"
        },
        "id": "uZHfKfnkd05D",
        "outputId": "df7c69b0-9f53-4faf-96c0-71add4769cbe"
      },
      "outputs": [
        {
          "name": "stdout",
          "output_type": "stream",
          "text": [
            "ShapiroResult(statistic=0.7162197828292847, pvalue=6.639482852399681e-10)\n",
            "ShapiroResult(statistic=0.8725461959838867, pvalue=0.00023938486992847174)\n",
            "ShapiroResult(statistic=0.9386107921600342, pvalue=0.028167393058538437)\n",
            "ShapiroResult(statistic=0.8413094878196716, pvalue=0.010175768285989761)\n",
            "ShapiroResult(statistic=0.8439830541610718, pvalue=0.06394550204277039)\n",
            "ShapiroResult(statistic=0.7824721932411194, pvalue=0.040641915053129196)\n",
            "ShapiroResult(statistic=0.6767776012420654, pvalue=0.0034862442407757044)\n"
          ]
        }
      ],
      "source": [
        "for order in big_order:\n",
        "  print(sps.shapiro(big_order_df[big_order_df['order']==order]['CMR']))\n",
        "  \n"
      ]
    },
    {
      "cell_type": "code",
      "execution_count": 104,
      "id": "S0AyWM8hiR8c",
      "metadata": {
        "id": "S0AyWM8hiR8c"
      },
      "outputs": [],
      "source": [
        "samples=[]\n",
        "for order in big_order:\n",
        "  samples.append(list(big_order_df[big_order_df['order']==order]['CMR']))"
      ]
    },
    {
      "cell_type": "code",
      "execution_count": 106,
      "id": "rsj9dcMNienr",
      "metadata": {
        "colab": {
          "base_uri": "https://localhost:8080/"
        },
        "id": "rsj9dcMNienr",
        "outputId": "149f5caf-042b-4a3e-c4fb-2b12ef54c9a0"
      },
      "outputs": [
        {
          "data": {
            "text/plain": [
              "(LeveneResult(statistic=3.9241297114867257, pvalue=0.0010428322503278882),\n",
              " KruskalResult(statistic=47.12051808912017, pvalue=1.770372993221779e-08))"
            ]
          },
          "execution_count": 106,
          "metadata": {},
          "output_type": "execute_result"
        }
      ],
      "source": [
        "sps.levene(*samples),sps.kruskal(*samples)"
      ]
    },
    {
      "cell_type": "markdown",
      "id": "9bd282d4",
      "metadata": {
        "id": "9bd282d4"
      },
      "source": [
        "Levene test showed significant defferences in case of variance and Kruskal -  in according to  medians\n",
        "\n",
        "____"
      ]
    },
    {
      "cell_type": "markdown",
      "id": "7bf3c41a",
      "metadata": {},
      "source": [
        "### Post hoc analysis"
      ]
    },
    {
      "cell_type": "code",
      "execution_count": 9,
      "id": "IMUGdYIzcIvz",
      "metadata": {
        "colab": {
          "base_uri": "https://localhost:8080/"
        },
        "id": "IMUGdYIzcIvz",
        "outputId": "bf4e342c-6ac7-4afb-d8c6-0c7cb244f41c"
      },
      "outputs": [
        {
          "data": {
            "text/plain": [
              "['Artiodactyla',\n",
              " 'Primates',\n",
              " 'Carnivora',\n",
              " 'Rodentia',\n",
              " 'Chiroptera',\n",
              " 'Diprotodontia',\n",
              " 'Perissodactyla']"
            ]
          },
          "execution_count": 9,
          "metadata": {},
          "output_type": "execute_result"
        }
      ],
      "source": [
        "big_order"
      ]
    },
    {
      "cell_type": "code",
      "execution_count": 13,
      "id": "Yah0u4exEIqp",
      "metadata": {
        "id": "Yah0u4exEIqp"
      },
      "outputs": [],
      "source": [
        "t_data=[]\n",
        "\n",
        "for column1 in big_order:\n",
        "  for column2 in big_order:\n",
        "    if column1 != column2:\n",
        "      p = (sps.ttest_ind(big_order_df[big_order_df['order']==column1]['CMR'], big_order_df[big_order_df['order']==column2]['CMR'], equal_var=False)[1])\n",
        "      diff=(np.mean(big_order_df[big_order_df['order']==column1]['CMR'])-np.mean(big_order_df[big_order_df['order']==column2]['CMR']))\n",
        "      t_data.append([column1,column2,p,diff])"
      ]
    },
    {
      "cell_type": "code",
      "execution_count": 27,
      "id": "WDjG6i_NZvnX",
      "metadata": {
        "id": "WDjG6i_NZvnX"
      },
      "outputs": [],
      "source": [
        "t_df = pd.DataFrame.from_records(t_data)\n",
        "t_df.columns = ['Order1', 'Order2', 'p_unc', 'm2-m2']"
      ]
    },
    {
      "cell_type": "code",
      "execution_count": 28,
      "id": "016x83pJeSy5",
      "metadata": {
        "id": "016x83pJeSy5"
      },
      "outputs": [],
      "source": [
        "t_df.insert(4,'p_cor',multipletests(t_df['p_unc'], alpha=0.1, method='holm')[1])\n",
        "t_df.insert(4,'reject',multipletests(t_df['p_unc'], alpha=0.1, method='holm')[0])"
      ]
    },
    {
      "cell_type": "code",
      "execution_count": 29,
      "id": "CnedOx4Ar0Xc",
      "metadata": {
        "colab": {
          "base_uri": "https://localhost:8080/",
          "height": 237
        },
        "id": "CnedOx4Ar0Xc",
        "outputId": "900ffc29-42a6-42ea-8436-203f23916102"
      },
      "outputs": [
        {
          "data": {
            "text/html": [
              "\n",
              "  <div id=\"df-725b6278-34fe-49e4-94b7-c7120d8be5f3\">\n",
              "    <div class=\"colab-df-container\">\n",
              "      <div>\n",
              "<style scoped>\n",
              "    .dataframe tbody tr th:only-of-type {\n",
              "        vertical-align: middle;\n",
              "    }\n",
              "\n",
              "    .dataframe tbody tr th {\n",
              "        vertical-align: top;\n",
              "    }\n",
              "\n",
              "    .dataframe thead th {\n",
              "        text-align: right;\n",
              "    }\n",
              "</style>\n",
              "<table border=\"1\" class=\"dataframe\">\n",
              "  <thead>\n",
              "    <tr style=\"text-align: right;\">\n",
              "      <th></th>\n",
              "      <th>Order1</th>\n",
              "      <th>Order2</th>\n",
              "      <th>p_unc</th>\n",
              "      <th>m2-m2</th>\n",
              "      <th>reject</th>\n",
              "      <th>p_cor</th>\n",
              "    </tr>\n",
              "  </thead>\n",
              "  <tbody>\n",
              "    <tr>\n",
              "      <th>0</th>\n",
              "      <td>Artiodactyla</td>\n",
              "      <td>Primates</td>\n",
              "      <td>1.026912e-03</td>\n",
              "      <td>-0.033182</td>\n",
              "      <td>True</td>\n",
              "      <td>3.902266e-02</td>\n",
              "    </tr>\n",
              "    <tr>\n",
              "      <th>1</th>\n",
              "      <td>Artiodactyla</td>\n",
              "      <td>Carnivora</td>\n",
              "      <td>2.849309e-09</td>\n",
              "      <td>-0.083301</td>\n",
              "      <td>True</td>\n",
              "      <td>1.196710e-07</td>\n",
              "    </tr>\n",
              "    <tr>\n",
              "      <th>6</th>\n",
              "      <td>Primates</td>\n",
              "      <td>Artiodactyla</td>\n",
              "      <td>1.026912e-03</td>\n",
              "      <td>0.033182</td>\n",
              "      <td>True</td>\n",
              "      <td>3.902266e-02</td>\n",
              "    </tr>\n",
              "    <tr>\n",
              "      <th>7</th>\n",
              "      <td>Primates</td>\n",
              "      <td>Carnivora</td>\n",
              "      <td>5.739047e-04</td>\n",
              "      <td>-0.050119</td>\n",
              "      <td>True</td>\n",
              "      <td>2.295619e-02</td>\n",
              "    </tr>\n",
              "    <tr>\n",
              "      <th>12</th>\n",
              "      <td>Carnivora</td>\n",
              "      <td>Artiodactyla</td>\n",
              "      <td>2.849309e-09</td>\n",
              "      <td>0.083301</td>\n",
              "      <td>True</td>\n",
              "      <td>1.196710e-07</td>\n",
              "    </tr>\n",
              "    <tr>\n",
              "      <th>13</th>\n",
              "      <td>Carnivora</td>\n",
              "      <td>Primates</td>\n",
              "      <td>5.739047e-04</td>\n",
              "      <td>0.050119</td>\n",
              "      <td>True</td>\n",
              "      <td>2.295619e-02</td>\n",
              "    </tr>\n",
              "  </tbody>\n",
              "</table>\n",
              "</div>\n",
              "      <button class=\"colab-df-convert\" onclick=\"convertToInteractive('df-725b6278-34fe-49e4-94b7-c7120d8be5f3')\"\n",
              "              title=\"Convert this dataframe to an interactive table.\"\n",
              "              style=\"display:none;\">\n",
              "        \n",
              "  <svg xmlns=\"http://www.w3.org/2000/svg\" height=\"24px\"viewBox=\"0 0 24 24\"\n",
              "       width=\"24px\">\n",
              "    <path d=\"M0 0h24v24H0V0z\" fill=\"none\"/>\n",
              "    <path d=\"M18.56 5.44l.94 2.06.94-2.06 2.06-.94-2.06-.94-.94-2.06-.94 2.06-2.06.94zm-11 1L8.5 8.5l.94-2.06 2.06-.94-2.06-.94L8.5 2.5l-.94 2.06-2.06.94zm10 10l.94 2.06.94-2.06 2.06-.94-2.06-.94-.94-2.06-.94 2.06-2.06.94z\"/><path d=\"M17.41 7.96l-1.37-1.37c-.4-.4-.92-.59-1.43-.59-.52 0-1.04.2-1.43.59L10.3 9.45l-7.72 7.72c-.78.78-.78 2.05 0 2.83L4 21.41c.39.39.9.59 1.41.59.51 0 1.02-.2 1.41-.59l7.78-7.78 2.81-2.81c.8-.78.8-2.07 0-2.86zM5.41 20L4 18.59l7.72-7.72 1.47 1.35L5.41 20z\"/>\n",
              "  </svg>\n",
              "      </button>\n",
              "      \n",
              "  <style>\n",
              "    .colab-df-container {\n",
              "      display:flex;\n",
              "      flex-wrap:wrap;\n",
              "      gap: 12px;\n",
              "    }\n",
              "\n",
              "    .colab-df-convert {\n",
              "      background-color: #E8F0FE;\n",
              "      border: none;\n",
              "      border-radius: 50%;\n",
              "      cursor: pointer;\n",
              "      display: none;\n",
              "      fill: #1967D2;\n",
              "      height: 32px;\n",
              "      padding: 0 0 0 0;\n",
              "      width: 32px;\n",
              "    }\n",
              "\n",
              "    .colab-df-convert:hover {\n",
              "      background-color: #E2EBFA;\n",
              "      box-shadow: 0px 1px 2px rgba(60, 64, 67, 0.3), 0px 1px 3px 1px rgba(60, 64, 67, 0.15);\n",
              "      fill: #174EA6;\n",
              "    }\n",
              "\n",
              "    [theme=dark] .colab-df-convert {\n",
              "      background-color: #3B4455;\n",
              "      fill: #D2E3FC;\n",
              "    }\n",
              "\n",
              "    [theme=dark] .colab-df-convert:hover {\n",
              "      background-color: #434B5C;\n",
              "      box-shadow: 0px 1px 3px 1px rgba(0, 0, 0, 0.15);\n",
              "      filter: drop-shadow(0px 1px 2px rgba(0, 0, 0, 0.3));\n",
              "      fill: #FFFFFF;\n",
              "    }\n",
              "  </style>\n",
              "\n",
              "      <script>\n",
              "        const buttonEl =\n",
              "          document.querySelector('#df-725b6278-34fe-49e4-94b7-c7120d8be5f3 button.colab-df-convert');\n",
              "        buttonEl.style.display =\n",
              "          google.colab.kernel.accessAllowed ? 'block' : 'none';\n",
              "\n",
              "        async function convertToInteractive(key) {\n",
              "          const element = document.querySelector('#df-725b6278-34fe-49e4-94b7-c7120d8be5f3');\n",
              "          const dataTable =\n",
              "            await google.colab.kernel.invokeFunction('convertToInteractive',\n",
              "                                                     [key], {});\n",
              "          if (!dataTable) return;\n",
              "\n",
              "          const docLinkHtml = 'Like what you see? Visit the ' +\n",
              "            '<a target=\"_blank\" href=https://colab.research.google.com/notebooks/data_table.ipynb>data table notebook</a>'\n",
              "            + ' to learn more about interactive tables.';\n",
              "          element.innerHTML = '';\n",
              "          dataTable['output_type'] = 'display_data';\n",
              "          await google.colab.output.renderOutput(dataTable, element);\n",
              "          const docLink = document.createElement('div');\n",
              "          docLink.innerHTML = docLinkHtml;\n",
              "          element.appendChild(docLink);\n",
              "        }\n",
              "      </script>\n",
              "    </div>\n",
              "  </div>\n",
              "  "
            ],
            "text/plain": [
              "          Order1        Order2         p_unc     m2-m2  reject         p_cor\n",
              "0   Artiodactyla      Primates  1.026912e-03 -0.033182    True  3.902266e-02\n",
              "1   Artiodactyla     Carnivora  2.849309e-09 -0.083301    True  1.196710e-07\n",
              "6       Primates  Artiodactyla  1.026912e-03  0.033182    True  3.902266e-02\n",
              "7       Primates     Carnivora  5.739047e-04 -0.050119    True  2.295619e-02\n",
              "12     Carnivora  Artiodactyla  2.849309e-09  0.083301    True  1.196710e-07\n",
              "13     Carnivora      Primates  5.739047e-04  0.050119    True  2.295619e-02"
            ]
          },
          "execution_count": 29,
          "metadata": {},
          "output_type": "execute_result"
        }
      ],
      "source": [
        "t_df[t_df['reject']==True]"
      ]
    },
    {
      "cell_type": "markdown",
      "id": "9e7b09ee",
      "metadata": {},
      "source": [
        "### Tukey and Games-Howell tests"
      ]
    },
    {
      "cell_type": "code",
      "execution_count": 12,
      "id": "I1XqC9B_wf2h",
      "metadata": {
        "id": "I1XqC9B_wf2h"
      },
      "outputs": [],
      "source": [
        "tukey=multicomp.pairwise_tukeyhsd(endog=big_order_df['CMR'],groups=big_order_df['order'],alpha=0.05)"
      ]
    },
    {
      "cell_type": "code",
      "execution_count": 14,
      "id": "tf6E8CHYw-Nz",
      "metadata": {
        "colab": {
          "base_uri": "https://localhost:8080/"
        },
        "id": "tf6E8CHYw-Nz",
        "outputId": "c8525bed-5435-41a4-f30c-091071a33f5e"
      },
      "outputs": [
        {
          "name": "stdout",
          "output_type": "stream",
          "text": [
            "        Multiple Comparison of Means - Tukey HSD, FWER=0.05         \n",
            "====================================================================\n",
            "    group1         group2     meandiff p-adj   lower   upper  reject\n",
            "--------------------------------------------------------------------\n",
            "  Artiodactyla      Carnivora   0.0833    0.0  0.0511  0.1155   True\n",
            "  Artiodactyla     Chiroptera    0.039 0.4034 -0.0185  0.0964  False\n",
            "  Artiodactyla  Diprotodontia   0.0335 0.7732 -0.0354  0.1024  False\n",
            "  Artiodactyla Perissodactyla   0.0272 0.9009 -0.0416  0.0961  False\n",
            "  Artiodactyla       Primates   0.0332 0.0362  0.0012  0.0651   True\n",
            "  Artiodactyla       Rodentia   0.0376 0.1685 -0.0074  0.0827  False\n",
            "     Carnivora     Chiroptera  -0.0443 0.2871 -0.1038  0.0151  False\n",
            "     Carnivora  Diprotodontia  -0.0498 0.3543 -0.1203  0.0208  False\n",
            "     Carnivora Perissodactyla  -0.0561 0.2179 -0.1266  0.0145  False\n",
            "     Carnivora       Primates  -0.0501 0.0008 -0.0856 -0.0147   True\n",
            "     Carnivora       Rodentia  -0.0457 0.0691 -0.0932  0.0019  False\n",
            "    Chiroptera  Diprotodontia  -0.0055    1.0 -0.0905  0.0796  False\n",
            "    Chiroptera Perissodactyla  -0.0117 0.9996 -0.0968  0.0734  False\n",
            "    Chiroptera       Primates  -0.0058 0.9999 -0.0651  0.0535  False\n",
            "    Chiroptera       Rodentia  -0.0013    1.0 -0.0686  0.0659  False\n",
            " Diprotodontia Perissodactyla  -0.0063    1.0 -0.0994  0.0869  False\n",
            " Diprotodontia       Primates  -0.0003    1.0 -0.0708  0.0701  False\n",
            " Diprotodontia       Rodentia   0.0041    1.0 -0.0731  0.0814  False\n",
            "Perissodactyla       Primates   0.0059    1.0 -0.0645  0.0764  False\n",
            "Perissodactyla       Rodentia   0.0104 0.9997 -0.0669  0.0877  False\n",
            "      Primates       Rodentia   0.0045    1.0  -0.043  0.0519  False\n",
            "--------------------------------------------------------------------\n"
          ]
        }
      ],
      "source": [
        "print(tukey)"
      ]
    },
    {
      "cell_type": "code",
      "execution_count": 10,
      "id": "7Lsci1HK_J-E",
      "metadata": {
        "colab": {
          "base_uri": "https://localhost:8080/",
          "height": 143
        },
        "id": "7Lsci1HK_J-E",
        "outputId": "3b9aa828-3e5b-4a8e-8d0d-80fb3031b706"
      },
      "outputs": [
        {
          "data": {
            "text/html": [
              "\n",
              "  <div id=\"df-b84afe2c-8acc-4dcf-beef-66881f1325f6\">\n",
              "    <div class=\"colab-df-container\">\n",
              "      <div>\n",
              "<style scoped>\n",
              "    .dataframe tbody tr th:only-of-type {\n",
              "        vertical-align: middle;\n",
              "    }\n",
              "\n",
              "    .dataframe tbody tr th {\n",
              "        vertical-align: top;\n",
              "    }\n",
              "\n",
              "    .dataframe thead th {\n",
              "        text-align: right;\n",
              "    }\n",
              "</style>\n",
              "<table border=\"1\" class=\"dataframe\">\n",
              "  <thead>\n",
              "    <tr style=\"text-align: right;\">\n",
              "      <th></th>\n",
              "      <th>A</th>\n",
              "      <th>B</th>\n",
              "      <th>mean(A)</th>\n",
              "      <th>mean(B)</th>\n",
              "      <th>diff</th>\n",
              "      <th>se</th>\n",
              "      <th>T</th>\n",
              "      <th>df</th>\n",
              "      <th>pval</th>\n",
              "      <th>hedges</th>\n",
              "    </tr>\n",
              "  </thead>\n",
              "  <tbody>\n",
              "    <tr>\n",
              "      <th>0</th>\n",
              "      <td>Artiodactyla</td>\n",
              "      <td>Carnivora</td>\n",
              "      <td>0.023132</td>\n",
              "      <td>0.106432</td>\n",
              "      <td>-0.083301</td>\n",
              "      <td>0.011609</td>\n",
              "      <td>-7.175503</td>\n",
              "      <td>51.087247</td>\n",
              "      <td>5.868933e-08</td>\n",
              "      <td>-1.420711</td>\n",
              "    </tr>\n",
              "    <tr>\n",
              "      <th>4</th>\n",
              "      <td>Artiodactyla</td>\n",
              "      <td>Primates</td>\n",
              "      <td>0.023132</td>\n",
              "      <td>0.056313</td>\n",
              "      <td>-0.033182</td>\n",
              "      <td>0.009602</td>\n",
              "      <td>-3.455677</td>\n",
              "      <td>58.645647</td>\n",
              "      <td>1.680549e-02</td>\n",
              "      <td>-0.679240</td>\n",
              "    </tr>\n",
              "    <tr>\n",
              "      <th>9</th>\n",
              "      <td>Carnivora</td>\n",
              "      <td>Primates</td>\n",
              "      <td>0.106432</td>\n",
              "      <td>0.056313</td>\n",
              "      <td>0.050119</td>\n",
              "      <td>0.013948</td>\n",
              "      <td>3.593225</td>\n",
              "      <td>76.890814</td>\n",
              "      <td>9.888218e-03</td>\n",
              "      <td>0.781546</td>\n",
              "    </tr>\n",
              "  </tbody>\n",
              "</table>\n",
              "</div>\n",
              "      <button class=\"colab-df-convert\" onclick=\"convertToInteractive('df-b84afe2c-8acc-4dcf-beef-66881f1325f6')\"\n",
              "              title=\"Convert this dataframe to an interactive table.\"\n",
              "              style=\"display:none;\">\n",
              "        \n",
              "  <svg xmlns=\"http://www.w3.org/2000/svg\" height=\"24px\"viewBox=\"0 0 24 24\"\n",
              "       width=\"24px\">\n",
              "    <path d=\"M0 0h24v24H0V0z\" fill=\"none\"/>\n",
              "    <path d=\"M18.56 5.44l.94 2.06.94-2.06 2.06-.94-2.06-.94-.94-2.06-.94 2.06-2.06.94zm-11 1L8.5 8.5l.94-2.06 2.06-.94-2.06-.94L8.5 2.5l-.94 2.06-2.06.94zm10 10l.94 2.06.94-2.06 2.06-.94-2.06-.94-.94-2.06-.94 2.06-2.06.94z\"/><path d=\"M17.41 7.96l-1.37-1.37c-.4-.4-.92-.59-1.43-.59-.52 0-1.04.2-1.43.59L10.3 9.45l-7.72 7.72c-.78.78-.78 2.05 0 2.83L4 21.41c.39.39.9.59 1.41.59.51 0 1.02-.2 1.41-.59l7.78-7.78 2.81-2.81c.8-.78.8-2.07 0-2.86zM5.41 20L4 18.59l7.72-7.72 1.47 1.35L5.41 20z\"/>\n",
              "  </svg>\n",
              "      </button>\n",
              "      \n",
              "  <style>\n",
              "    .colab-df-container {\n",
              "      display:flex;\n",
              "      flex-wrap:wrap;\n",
              "      gap: 12px;\n",
              "    }\n",
              "\n",
              "    .colab-df-convert {\n",
              "      background-color: #E8F0FE;\n",
              "      border: none;\n",
              "      border-radius: 50%;\n",
              "      cursor: pointer;\n",
              "      display: none;\n",
              "      fill: #1967D2;\n",
              "      height: 32px;\n",
              "      padding: 0 0 0 0;\n",
              "      width: 32px;\n",
              "    }\n",
              "\n",
              "    .colab-df-convert:hover {\n",
              "      background-color: #E2EBFA;\n",
              "      box-shadow: 0px 1px 2px rgba(60, 64, 67, 0.3), 0px 1px 3px 1px rgba(60, 64, 67, 0.15);\n",
              "      fill: #174EA6;\n",
              "    }\n",
              "\n",
              "    [theme=dark] .colab-df-convert {\n",
              "      background-color: #3B4455;\n",
              "      fill: #D2E3FC;\n",
              "    }\n",
              "\n",
              "    [theme=dark] .colab-df-convert:hover {\n",
              "      background-color: #434B5C;\n",
              "      box-shadow: 0px 1px 3px 1px rgba(0, 0, 0, 0.15);\n",
              "      filter: drop-shadow(0px 1px 2px rgba(0, 0, 0, 0.3));\n",
              "      fill: #FFFFFF;\n",
              "    }\n",
              "  </style>\n",
              "\n",
              "      <script>\n",
              "        const buttonEl =\n",
              "          document.querySelector('#df-b84afe2c-8acc-4dcf-beef-66881f1325f6 button.colab-df-convert');\n",
              "        buttonEl.style.display =\n",
              "          google.colab.kernel.accessAllowed ? 'block' : 'none';\n",
              "\n",
              "        async function convertToInteractive(key) {\n",
              "          const element = document.querySelector('#df-b84afe2c-8acc-4dcf-beef-66881f1325f6');\n",
              "          const dataTable =\n",
              "            await google.colab.kernel.invokeFunction('convertToInteractive',\n",
              "                                                     [key], {});\n",
              "          if (!dataTable) return;\n",
              "\n",
              "          const docLinkHtml = 'Like what you see? Visit the ' +\n",
              "            '<a target=\"_blank\" href=https://colab.research.google.com/notebooks/data_table.ipynb>data table notebook</a>'\n",
              "            + ' to learn more about interactive tables.';\n",
              "          element.innerHTML = '';\n",
              "          dataTable['output_type'] = 'display_data';\n",
              "          await google.colab.output.renderOutput(dataTable, element);\n",
              "          const docLink = document.createElement('div');\n",
              "          docLink.innerHTML = docLinkHtml;\n",
              "          element.appendChild(docLink);\n",
              "        }\n",
              "      </script>\n",
              "    </div>\n",
              "  </div>\n",
              "  "
            ],
            "text/plain": [
              "              A          B   mean(A)   mean(B)      diff        se         T  \\\n",
              "0  Artiodactyla  Carnivora  0.023132  0.106432 -0.083301  0.011609 -7.175503   \n",
              "4  Artiodactyla   Primates  0.023132  0.056313 -0.033182  0.009602 -3.455677   \n",
              "9     Carnivora   Primates  0.106432  0.056313  0.050119  0.013948  3.593225   \n",
              "\n",
              "          df          pval    hedges  \n",
              "0  51.087247  5.868933e-08 -1.420711  \n",
              "4  58.645647  1.680549e-02 -0.679240  \n",
              "9  76.890814  9.888218e-03  0.781546  "
            ]
          },
          "execution_count": 10,
          "metadata": {},
          "output_type": "execute_result"
        }
      ],
      "source": [
        "howell=pg.pairwise_gameshowell(data=big_order_df,dv='CMR',between='order')\n",
        "howell[howell['pval']<0.05]"
      ]
    },
    {
      "cell_type": "markdown",
      "id": "c1119919",
      "metadata": {
        "id": "c1119919"
      },
      "source": [
        "Both test showed significant defferences between Artiodactyla/Carnivora and Artiodactyla/Primates orders "
      ]
    },
    {
      "cell_type": "markdown",
      "id": "8574368a",
      "metadata": {
        "id": "8574368a"
      },
      "source": [
        "### Sex-cancer correlation"
      ]
    },
    {
      "cell_type": "code",
      "execution_count": 16,
      "id": "80b81cd9",
      "metadata": {
        "id": "80b81cd9"
      },
      "outputs": [],
      "source": [
        "sex_data = pd.read_csv('sex bias.csv')"
      ]
    },
    {
      "cell_type": "code",
      "execution_count": 17,
      "id": "3b9a2d38",
      "metadata": {
        "colab": {
          "base_uri": "https://localhost:8080/",
          "height": 206
        },
        "id": "3b9a2d38",
        "outputId": "55cca0d9-2bcc-4de7-d209-55fe741d0755"
      },
      "outputs": [
        {
          "data": {
            "text/html": [
              "\n",
              "  <div id=\"df-5c1b5275-854a-4466-a21a-1922fb05d2c1\">\n",
              "    <div class=\"colab-df-container\">\n",
              "      <div>\n",
              "<style scoped>\n",
              "    .dataframe tbody tr th:only-of-type {\n",
              "        vertical-align: middle;\n",
              "    }\n",
              "\n",
              "    .dataframe tbody tr th {\n",
              "        vertical-align: top;\n",
              "    }\n",
              "\n",
              "    .dataframe thead th {\n",
              "        text-align: right;\n",
              "    }\n",
              "</style>\n",
              "<table border=\"1\" class=\"dataframe\">\n",
              "  <thead>\n",
              "    <tr style=\"text-align: right;\">\n",
              "      <th></th>\n",
              "      <th>Species</th>\n",
              "      <th>knownDeathsF</th>\n",
              "      <th>knownDeathsM</th>\n",
              "      <th>ICM_F</th>\n",
              "      <th>ICM_M</th>\n",
              "      <th>CMR_M</th>\n",
              "      <th>CMR_F</th>\n",
              "      <th>order</th>\n",
              "    </tr>\n",
              "  </thead>\n",
              "  <tbody>\n",
              "    <tr>\n",
              "      <th>0</th>\n",
              "      <td>Acinonyx_jubatus</td>\n",
              "      <td>105</td>\n",
              "      <td>120</td>\n",
              "      <td>0.030140</td>\n",
              "      <td>0.048123</td>\n",
              "      <td>0.033333</td>\n",
              "      <td>0.038095</td>\n",
              "      <td>Carnivora</td>\n",
              "    </tr>\n",
              "    <tr>\n",
              "      <th>1</th>\n",
              "      <td>Ailurus_fulgens</td>\n",
              "      <td>47</td>\n",
              "      <td>51</td>\n",
              "      <td>0.115641</td>\n",
              "      <td>0.044528</td>\n",
              "      <td>0.058824</td>\n",
              "      <td>0.085106</td>\n",
              "      <td>Carnivora</td>\n",
              "    </tr>\n",
              "    <tr>\n",
              "      <th>2</th>\n",
              "      <td>Aonyx_cinerea</td>\n",
              "      <td>85</td>\n",
              "      <td>74</td>\n",
              "      <td>0.146708</td>\n",
              "      <td>0.015496</td>\n",
              "      <td>0.040541</td>\n",
              "      <td>0.082353</td>\n",
              "      <td>Carnivora</td>\n",
              "    </tr>\n",
              "    <tr>\n",
              "      <th>3</th>\n",
              "      <td>Arctictis_binturong</td>\n",
              "      <td>14</td>\n",
              "      <td>13</td>\n",
              "      <td>0.064764</td>\n",
              "      <td>0.188874</td>\n",
              "      <td>0.153846</td>\n",
              "      <td>0.142857</td>\n",
              "      <td>Carnivora</td>\n",
              "    </tr>\n",
              "    <tr>\n",
              "      <th>4</th>\n",
              "      <td>Canis_rufus</td>\n",
              "      <td>17</td>\n",
              "      <td>14</td>\n",
              "      <td>0.188612</td>\n",
              "      <td>0.413090</td>\n",
              "      <td>0.428571</td>\n",
              "      <td>0.117647</td>\n",
              "      <td>Carnivora</td>\n",
              "    </tr>\n",
              "  </tbody>\n",
              "</table>\n",
              "</div>\n",
              "      <button class=\"colab-df-convert\" onclick=\"convertToInteractive('df-5c1b5275-854a-4466-a21a-1922fb05d2c1')\"\n",
              "              title=\"Convert this dataframe to an interactive table.\"\n",
              "              style=\"display:none;\">\n",
              "        \n",
              "  <svg xmlns=\"http://www.w3.org/2000/svg\" height=\"24px\"viewBox=\"0 0 24 24\"\n",
              "       width=\"24px\">\n",
              "    <path d=\"M0 0h24v24H0V0z\" fill=\"none\"/>\n",
              "    <path d=\"M18.56 5.44l.94 2.06.94-2.06 2.06-.94-2.06-.94-.94-2.06-.94 2.06-2.06.94zm-11 1L8.5 8.5l.94-2.06 2.06-.94-2.06-.94L8.5 2.5l-.94 2.06-2.06.94zm10 10l.94 2.06.94-2.06 2.06-.94-2.06-.94-.94-2.06-.94 2.06-2.06.94z\"/><path d=\"M17.41 7.96l-1.37-1.37c-.4-.4-.92-.59-1.43-.59-.52 0-1.04.2-1.43.59L10.3 9.45l-7.72 7.72c-.78.78-.78 2.05 0 2.83L4 21.41c.39.39.9.59 1.41.59.51 0 1.02-.2 1.41-.59l7.78-7.78 2.81-2.81c.8-.78.8-2.07 0-2.86zM5.41 20L4 18.59l7.72-7.72 1.47 1.35L5.41 20z\"/>\n",
              "  </svg>\n",
              "      </button>\n",
              "      \n",
              "  <style>\n",
              "    .colab-df-container {\n",
              "      display:flex;\n",
              "      flex-wrap:wrap;\n",
              "      gap: 12px;\n",
              "    }\n",
              "\n",
              "    .colab-df-convert {\n",
              "      background-color: #E8F0FE;\n",
              "      border: none;\n",
              "      border-radius: 50%;\n",
              "      cursor: pointer;\n",
              "      display: none;\n",
              "      fill: #1967D2;\n",
              "      height: 32px;\n",
              "      padding: 0 0 0 0;\n",
              "      width: 32px;\n",
              "    }\n",
              "\n",
              "    .colab-df-convert:hover {\n",
              "      background-color: #E2EBFA;\n",
              "      box-shadow: 0px 1px 2px rgba(60, 64, 67, 0.3), 0px 1px 3px 1px rgba(60, 64, 67, 0.15);\n",
              "      fill: #174EA6;\n",
              "    }\n",
              "\n",
              "    [theme=dark] .colab-df-convert {\n",
              "      background-color: #3B4455;\n",
              "      fill: #D2E3FC;\n",
              "    }\n",
              "\n",
              "    [theme=dark] .colab-df-convert:hover {\n",
              "      background-color: #434B5C;\n",
              "      box-shadow: 0px 1px 3px 1px rgba(0, 0, 0, 0.15);\n",
              "      filter: drop-shadow(0px 1px 2px rgba(0, 0, 0, 0.3));\n",
              "      fill: #FFFFFF;\n",
              "    }\n",
              "  </style>\n",
              "\n",
              "      <script>\n",
              "        const buttonEl =\n",
              "          document.querySelector('#df-5c1b5275-854a-4466-a21a-1922fb05d2c1 button.colab-df-convert');\n",
              "        buttonEl.style.display =\n",
              "          google.colab.kernel.accessAllowed ? 'block' : 'none';\n",
              "\n",
              "        async function convertToInteractive(key) {\n",
              "          const element = document.querySelector('#df-5c1b5275-854a-4466-a21a-1922fb05d2c1');\n",
              "          const dataTable =\n",
              "            await google.colab.kernel.invokeFunction('convertToInteractive',\n",
              "                                                     [key], {});\n",
              "          if (!dataTable) return;\n",
              "\n",
              "          const docLinkHtml = 'Like what you see? Visit the ' +\n",
              "            '<a target=\"_blank\" href=https://colab.research.google.com/notebooks/data_table.ipynb>data table notebook</a>'\n",
              "            + ' to learn more about interactive tables.';\n",
              "          element.innerHTML = '';\n",
              "          dataTable['output_type'] = 'display_data';\n",
              "          await google.colab.output.renderOutput(dataTable, element);\n",
              "          const docLink = document.createElement('div');\n",
              "          docLink.innerHTML = docLinkHtml;\n",
              "          element.appendChild(docLink);\n",
              "        }\n",
              "      </script>\n",
              "    </div>\n",
              "  </div>\n",
              "  "
            ],
            "text/plain": [
              "               Species  knownDeathsF  knownDeathsM     ICM_F     ICM_M  \\\n",
              "0     Acinonyx_jubatus           105           120  0.030140  0.048123   \n",
              "1      Ailurus_fulgens            47            51  0.115641  0.044528   \n",
              "2        Aonyx_cinerea            85            74  0.146708  0.015496   \n",
              "3  Arctictis_binturong            14            13  0.064764  0.188874   \n",
              "4          Canis_rufus            17            14  0.188612  0.413090   \n",
              "\n",
              "      CMR_M     CMR_F      order  \n",
              "0  0.033333  0.038095  Carnivora  \n",
              "1  0.058824  0.085106  Carnivora  \n",
              "2  0.040541  0.082353  Carnivora  \n",
              "3  0.153846  0.142857  Carnivora  \n",
              "4  0.428571  0.117647  Carnivora  "
            ]
          },
          "execution_count": 17,
          "metadata": {},
          "output_type": "execute_result"
        }
      ],
      "source": [
        "sex_data.head()"
      ]
    },
    {
      "cell_type": "code",
      "execution_count": 19,
      "id": "5MP0E4izBAVL",
      "metadata": {
        "colab": {
          "base_uri": "https://localhost:8080/"
        },
        "id": "5MP0E4izBAVL",
        "outputId": "d756ba7e-76fc-4a97-af7f-51af7ff05f61"
      },
      "outputs": [
        {
          "name": "stdout",
          "output_type": "stream",
          "text": [
            "<class 'pandas.core.frame.DataFrame'>\n",
            "RangeIndex: 36 entries, 0 to 35\n",
            "Data columns (total 8 columns):\n",
            " #   Column        Non-Null Count  Dtype  \n",
            "---  ------        --------------  -----  \n",
            " 0   Species       36 non-null     object \n",
            " 1   knownDeathsF  36 non-null     int64  \n",
            " 2   knownDeathsM  36 non-null     int64  \n",
            " 3   ICM_F         32 non-null     float64\n",
            " 4   ICM_M         30 non-null     float64\n",
            " 5   CMR_M         36 non-null     float64\n",
            " 6   CMR_F         36 non-null     float64\n",
            " 7   order         36 non-null     object \n",
            "dtypes: float64(4), int64(2), object(2)\n",
            "memory usage: 2.4+ KB\n"
          ]
        }
      ],
      "source": [
        "sex_data.info()"
      ]
    },
    {
      "cell_type": "code",
      "execution_count": 20,
      "id": "896037b6",
      "metadata": {
        "colab": {
          "base_uri": "https://localhost:8080/"
        },
        "id": "896037b6",
        "outputId": "6f2e9967-03e1-44ce-958f-99306b8a8e36"
      },
      "outputs": [
        {
          "data": {
            "text/plain": [
              "(ShapiroResult(statistic=0.8310582637786865, pvalue=7.182308763731271e-05),\n",
              " ShapiroResult(statistic=0.941742479801178, pvalue=0.05756807699799538))"
            ]
          },
          "execution_count": 20,
          "metadata": {},
          "output_type": "execute_result"
        }
      ],
      "source": [
        "sps.shapiro(sex_data['CMR_M']),sps.shapiro(sex_data['CMR_F'])"
      ]
    },
    {
      "cell_type": "markdown",
      "id": "HcOJTRMuCOgT",
      "metadata": {
        "id": "HcOJTRMuCOgT"
      },
      "source": [
        "Hypothesis is rejected so it's better to use non parametric criteria"
      ]
    },
    {
      "cell_type": "code",
      "execution_count": 22,
      "id": "6LB6t2xdEDgo",
      "metadata": {
        "colab": {
          "base_uri": "https://localhost:8080/"
        },
        "id": "6LB6t2xdEDgo",
        "outputId": "bfb07294-3d80-4bbf-a9f2-42cb1c2494d4"
      },
      "outputs": [
        {
          "data": {
            "text/plain": [
              "LeveneResult(statistic=0.6767580548522067, pvalue=0.4134989484621473)"
            ]
          },
          "execution_count": 22,
          "metadata": {},
          "output_type": "execute_result"
        }
      ],
      "source": [
        "sps.levene(sex_data['CMR_M'],sex_data['CMR_F'])"
      ]
    },
    {
      "cell_type": "code",
      "execution_count": 23,
      "id": "Clo7gMtiDKPj",
      "metadata": {
        "colab": {
          "base_uri": "https://localhost:8080/"
        },
        "id": "Clo7gMtiDKPj",
        "outputId": "2d3fdfd5-b379-4173-fe80-ad4c57301b47"
      },
      "outputs": [
        {
          "data": {
            "text/plain": [
              "Ttest_indResult(statistic=0.3131762718650713, pvalue=0.7550779736094833)"
            ]
          },
          "execution_count": 23,
          "metadata": {},
          "output_type": "execute_result"
        }
      ],
      "source": [
        "sps.ttest_ind(sex_data['CMR_M'],sex_data['CMR_F'], equal_var=True)"
      ]
    },
    {
      "cell_type": "code",
      "execution_count": 27,
      "id": "ZsmuEoDAEt-g",
      "metadata": {
        "colab": {
          "base_uri": "https://localhost:8080/"
        },
        "id": "ZsmuEoDAEt-g",
        "outputId": "d4842a94-3b25-4318-e87c-ea51751f716f"
      },
      "outputs": [
        {
          "data": {
            "text/plain": [
              "MannwhitneyuResult(statistic=606.5, pvalue=0.3219275705313285)"
            ]
          },
          "execution_count": 27,
          "metadata": {},
          "output_type": "execute_result"
        }
      ],
      "source": [
        "sps.mannwhitneyu(sex_data['CMR_M'],sex_data['CMR_F'], alternative='less')"
      ]
    },
    {
      "cell_type": "markdown",
      "id": "2550ae57",
      "metadata": {
        "id": "2550ae57"
      },
      "source": [
        "Hypothesis isn't rejected. So the influence of  the use of hormonal contraception on cancer risk isn't proved\n",
        "\n",
        "___"
      ]
    },
    {
      "cell_type": "code",
      "execution_count": null,
      "id": "1DpVdkciGBKx",
      "metadata": {
        "id": "1DpVdkciGBKx"
      },
      "outputs": [],
      "source": []
    }
  ],
  "metadata": {
    "colab": {
      "collapsed_sections": [],
      "name": "Копия блокнота \"cancer_task.ipynb\"",
      "provenance": []
    },
    "kernelspec": {
      "display_name": "Python 3.9.12 ('base')",
      "language": "python",
      "name": "python3"
    },
    "language_info": {
      "codemirror_mode": {
        "name": "ipython",
        "version": 3
      },
      "file_extension": ".py",
      "mimetype": "text/x-python",
      "name": "python",
      "nbconvert_exporter": "python",
      "pygments_lexer": "ipython3",
      "version": "3.9.12"
    },
    "vscode": {
      "interpreter": {
        "hash": "f08154012ddadd8e950e6e9e035c7a7b32c136e7647e9b7c77e02eb723a8bedb"
      }
    }
  },
  "nbformat": 4,
  "nbformat_minor": 5
}
