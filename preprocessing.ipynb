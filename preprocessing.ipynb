{
 "cells": [
  {
   "cell_type": "code",
   "execution_count": 1,
   "metadata": {},
   "outputs": [],
   "source": [
    "import numpy as np\n",
    "import pandas as pd\n",
    "import matplotlib.pyplot as plt\n",
    "import seaborn as sns\n",
    "from collections import Counter\n",
    "sns.set_style(\"whitegrid\")"
   ]
  },
  {
   "cell_type": "code",
   "execution_count": 2,
   "metadata": {},
   "outputs": [],
   "source": [
    "df = pd.read_csv(\"merged_2021-Aug-21_1530.csv\")\n",
    "df_reg = pd.read_csv(\"Event_Registration.csv\")"
   ]
  },
  {
   "cell_type": "code",
   "execution_count": 3,
   "metadata": {},
   "outputs": [
    {
     "name": "stdout",
     "output_type": "stream",
     "text": [
      "Size before deleating strings without word stimulus: (11730, 9)\n",
      "Size after deleating them and adding the column with indexes: (2340, 10)\n"
     ]
    }
   ],
   "source": [
    "print('Size before deleating strings without word stimulus:', df.shape, sep = ' ')\n",
    "df_clean = df[~df.word.isna()]\n",
    "df_clean.reset_index(inplace=True)\n",
    "print('Size after deleating them and adding the column with indexes:', df_clean.shape, sep = ' ')"
   ]
  },
  {
   "cell_type": "code",
   "execution_count": 4,
   "metadata": {},
   "outputs": [],
   "source": [
    "\n",
    "# manually enter\n",
    "target_array = [2,2,1,1,1,1,1,4,4,2,1,1,1,3,3,4,4,2,1,1,1,1,4,3,3,2,1,3,3,1]#participants' group numbers\n",
    "n_word = len(df_clean['word'].unique())\n",
    "n_odor = len(df_clean['odor'].unique())\n",
    "n_exp = n_odor*n_word"
   ]
  },
  {
   "cell_type": "code",
   "execution_count": 5,
   "metadata": {},
   "outputs": [],
   "source": [
    "df_clean.insert(7, column=\"target\", value=np.repeat(np.array(target_array), n_exp))"
   ]
  },
  {
   "cell_type": "code",
   "execution_count": 6,
   "metadata": {},
   "outputs": [
    {
     "name": "stdout",
     "output_type": "stream",
     "text": [
      "['008-1', '26.0']\n"
     ]
    }
   ],
   "source": [
    "# finds participants with latency times greater than 250 ms in at least a quarter of responses\n",
    "extra_lat = list(df[df.latency < 0.25].participant)\n",
    "extra_dict = Counter(extra_lat)\n",
    "delete_part = []\n",
    "for key, value in extra_dict.items():\n",
    "    if value > n_exp/4:\n",
    "        delete_part.append(key)\n",
    "        \n",
    "print(delete_part)"
   ]
  },
  {
   "cell_type": "code",
   "execution_count": 7,
   "metadata": {},
   "outputs": [
    {
     "name": "stdout",
     "output_type": "stream",
     "text": [
      "Now we have 28 participants\n"
     ]
    }
   ],
   "source": [
    "for i in delete_part:\n",
    "    df_clean = df_clean[df_clean.participant != i]\n",
    "print('Now we have ' + str(int(df_clean.shape[0]/n_exp)) + ' participants' )"
   ]
  },
  {
   "cell_type": "code",
   "execution_count": 8,
   "metadata": {},
   "outputs": [],
   "source": [
    "latency_norm = np.zeros(df_clean.shape[0])\n",
    "for i in range(int(df_clean.shape[0]/n_exp)):\n",
    "    sliced = df_clean['latency'][n_exp * i:n_exp * (i + 1)]\n",
    "    latency_norm[n_exp * i:n_exp * (i + 1)] = (sliced - sliced.min()) / sliced.std()"
   ]
  },
  {
   "cell_type": "code",
   "execution_count": 9,
   "metadata": {},
   "outputs": [],
   "source": [
    "df_clean.insert(4, column=\"latency_normed\", value=latency_norm)\n",
    "df_clean['comb'] = df_clean['odor'] + df_clean['word']"
   ]
  },
  {
   "cell_type": "code",
   "execution_count": 10,
   "metadata": {},
   "outputs": [],
   "source": [
    "df_clean.to_csv('out.csv')"
   ]
  },
  {
   "cell_type": "code",
   "execution_count": null,
   "metadata": {},
   "outputs": [],
   "source": []
  }
 ],
 "metadata": {
  "kernelspec": {
   "display_name": "Python 3.9.12 ('base')",
   "language": "python",
   "name": "python3"
  },
  "language_info": {
   "codemirror_mode": {
    "name": "ipython",
    "version": 3
   },
   "file_extension": ".py",
   "mimetype": "text/x-python",
   "name": "python",
   "nbconvert_exporter": "python",
   "pygments_lexer": "ipython3",
   "version": "3.9.12"
  },
  "vscode": {
   "interpreter": {
    "hash": "f08154012ddadd8e950e6e9e035c7a7b32c136e7647e9b7c77e02eb723a8bedb"
   }
  }
 },
 "nbformat": 4,
 "nbformat_minor": 4
}
