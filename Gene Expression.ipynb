{
  "cells": [
    {
      "cell_type": "markdown",
      "metadata": {
        "id": "R35dLWL4_qUI"
      },
      "source": [
        "# Linear models for Gene expression"
      ]
    },
    {
      "cell_type": "code",
      "execution_count": 1,
      "metadata": {
        "colab": {
          "base_uri": "https://localhost:8080/"
        },
        "id": "lwiT-Sip_qUO",
        "outputId": "cb8f816f-0d1b-4374-fc29-b8113e273e98"
      },
      "outputs": [],
      "source": [
        "import pandas as pd\n",
        "import numpy as np\n",
        "import seaborn as sns\n",
        "import matplotlib.pyplot as plt\n",
        "from sklearn.linear_model import LinearRegression\n",
        "import tqdm\n",
        "from tqdm import tqdm\n",
        "import scipy.stats as sps\n",
        "from statsmodels.sandbox.stats.multicomp import multipletests"
      ]
    },
    {
      "cell_type": "markdown",
      "metadata": {
        "id": "nmsuyd_y_qUP"
      },
      "source": [
        "Thisi notebook is an attempt to reproduce the results of the experiment that was published in [the article](https://pubmed.ncbi.nlm.nih.gov/25049118/). This study aimed to identify prognostic indicators, including individual responses to chemotherapy, in CRC patients. RNA-seq data was generated using 54 samples (normal colon, primary CRC, and liver metastases) from 18 CRC patients and genes associated with CRC aggressiveness were identified.  "
      ]
    },
    {
      "cell_type": "code",
      "execution_count": 2,
      "metadata": {
        "colab": {
          "base_uri": "https://localhost:8080/",
          "height": 317
        },
        "id": "az6aCVOt_qUQ",
        "outputId": "c8296fbc-4cc6-421a-ff7f-f7647f2162ea"
      },
      "outputs": [
        {
          "data": {
            "text/html": [
              "<div>\n",
              "<style scoped>\n",
              "    .dataframe tbody tr th:only-of-type {\n",
              "        vertical-align: middle;\n",
              "    }\n",
              "\n",
              "    .dataframe tbody tr th {\n",
              "        vertical-align: top;\n",
              "    }\n",
              "\n",
              "    .dataframe thead th {\n",
              "        text-align: right;\n",
              "    }\n",
              "</style>\n",
              "<table border=\"1\" class=\"dataframe\">\n",
              "  <thead>\n",
              "    <tr style=\"text-align: right;\">\n",
              "      <th></th>\n",
              "      <th>Gene ID</th>\n",
              "      <th>Gene Name</th>\n",
              "      <th>SRR975551</th>\n",
              "      <th>SRR975552</th>\n",
              "      <th>SRR975553</th>\n",
              "      <th>SRR975554</th>\n",
              "      <th>SRR975555</th>\n",
              "      <th>SRR975556</th>\n",
              "      <th>SRR975557</th>\n",
              "      <th>SRR975558</th>\n",
              "      <th>...</th>\n",
              "      <th>SRR975595</th>\n",
              "      <th>SRR975596</th>\n",
              "      <th>SRR975597</th>\n",
              "      <th>SRR975598</th>\n",
              "      <th>SRR975599</th>\n",
              "      <th>SRR975600</th>\n",
              "      <th>SRR975601</th>\n",
              "      <th>SRR975602</th>\n",
              "      <th>SRR975603</th>\n",
              "      <th>SRR975604</th>\n",
              "    </tr>\n",
              "  </thead>\n",
              "  <tbody>\n",
              "    <tr>\n",
              "      <th>0</th>\n",
              "      <td>ENSG00000000003</td>\n",
              "      <td>TSPAN6</td>\n",
              "      <td>6617</td>\n",
              "      <td>1352</td>\n",
              "      <td>1492</td>\n",
              "      <td>3390</td>\n",
              "      <td>1464</td>\n",
              "      <td>1251</td>\n",
              "      <td>207</td>\n",
              "      <td>1333</td>\n",
              "      <td>...</td>\n",
              "      <td>2786</td>\n",
              "      <td>1717</td>\n",
              "      <td>1691</td>\n",
              "      <td>6192</td>\n",
              "      <td>722</td>\n",
              "      <td>680</td>\n",
              "      <td>2608</td>\n",
              "      <td>2436</td>\n",
              "      <td>1739</td>\n",
              "      <td>2134</td>\n",
              "    </tr>\n",
              "    <tr>\n",
              "      <th>1</th>\n",
              "      <td>ENSG00000000005</td>\n",
              "      <td>TNMD</td>\n",
              "      <td>69</td>\n",
              "      <td>1</td>\n",
              "      <td>20</td>\n",
              "      <td>23</td>\n",
              "      <td>12</td>\n",
              "      <td>4</td>\n",
              "      <td>20</td>\n",
              "      <td>2</td>\n",
              "      <td>...</td>\n",
              "      <td>18</td>\n",
              "      <td>7</td>\n",
              "      <td>10</td>\n",
              "      <td>40</td>\n",
              "      <td>14</td>\n",
              "      <td>1</td>\n",
              "      <td>16</td>\n",
              "      <td>0</td>\n",
              "      <td>2</td>\n",
              "      <td>7</td>\n",
              "    </tr>\n",
              "    <tr>\n",
              "      <th>2</th>\n",
              "      <td>ENSG00000000419</td>\n",
              "      <td>DPM1</td>\n",
              "      <td>2798</td>\n",
              "      <td>714</td>\n",
              "      <td>510</td>\n",
              "      <td>1140</td>\n",
              "      <td>1667</td>\n",
              "      <td>322</td>\n",
              "      <td>273</td>\n",
              "      <td>621</td>\n",
              "      <td>...</td>\n",
              "      <td>852</td>\n",
              "      <td>1095</td>\n",
              "      <td>1066</td>\n",
              "      <td>1273</td>\n",
              "      <td>405</td>\n",
              "      <td>597</td>\n",
              "      <td>974</td>\n",
              "      <td>1000</td>\n",
              "      <td>1287</td>\n",
              "      <td>1250</td>\n",
              "    </tr>\n",
              "    <tr>\n",
              "      <th>3</th>\n",
              "      <td>ENSG00000000457</td>\n",
              "      <td>SCYL3</td>\n",
              "      <td>486</td>\n",
              "      <td>629</td>\n",
              "      <td>398</td>\n",
              "      <td>239</td>\n",
              "      <td>383</td>\n",
              "      <td>290</td>\n",
              "      <td>164</td>\n",
              "      <td>452</td>\n",
              "      <td>...</td>\n",
              "      <td>244</td>\n",
              "      <td>156</td>\n",
              "      <td>256</td>\n",
              "      <td>422</td>\n",
              "      <td>95</td>\n",
              "      <td>255</td>\n",
              "      <td>331</td>\n",
              "      <td>165</td>\n",
              "      <td>347</td>\n",
              "      <td>349</td>\n",
              "    </tr>\n",
              "    <tr>\n",
              "      <th>4</th>\n",
              "      <td>ENSG00000000460</td>\n",
              "      <td>C1orf112</td>\n",
              "      <td>466</td>\n",
              "      <td>342</td>\n",
              "      <td>73</td>\n",
              "      <td>227</td>\n",
              "      <td>193</td>\n",
              "      <td>35</td>\n",
              "      <td>38</td>\n",
              "      <td>184</td>\n",
              "      <td>...</td>\n",
              "      <td>121</td>\n",
              "      <td>105</td>\n",
              "      <td>172</td>\n",
              "      <td>293</td>\n",
              "      <td>73</td>\n",
              "      <td>148</td>\n",
              "      <td>180</td>\n",
              "      <td>160</td>\n",
              "      <td>288</td>\n",
              "      <td>100</td>\n",
              "    </tr>\n",
              "  </tbody>\n",
              "</table>\n",
              "<p>5 rows × 56 columns</p>\n",
              "</div>"
            ],
            "text/plain": [
              "           Gene ID Gene Name  SRR975551  SRR975552  SRR975553  SRR975554  \\\n",
              "0  ENSG00000000003    TSPAN6       6617       1352       1492       3390   \n",
              "1  ENSG00000000005      TNMD         69          1         20         23   \n",
              "2  ENSG00000000419      DPM1       2798        714        510       1140   \n",
              "3  ENSG00000000457     SCYL3        486        629        398        239   \n",
              "4  ENSG00000000460  C1orf112        466        342         73        227   \n",
              "\n",
              "   SRR975555  SRR975556  SRR975557  SRR975558  ...  SRR975595  SRR975596  \\\n",
              "0       1464       1251        207       1333  ...       2786       1717   \n",
              "1         12          4         20          2  ...         18          7   \n",
              "2       1667        322        273        621  ...        852       1095   \n",
              "3        383        290        164        452  ...        244        156   \n",
              "4        193         35         38        184  ...        121        105   \n",
              "\n",
              "   SRR975597  SRR975598  SRR975599  SRR975600  SRR975601  SRR975602  \\\n",
              "0       1691       6192        722        680       2608       2436   \n",
              "1         10         40         14          1         16          0   \n",
              "2       1066       1273        405        597        974       1000   \n",
              "3        256        422         95        255        331        165   \n",
              "4        172        293         73        148        180        160   \n",
              "\n",
              "   SRR975603  SRR975604  \n",
              "0       1739       2134  \n",
              "1          2          7  \n",
              "2       1287       1250  \n",
              "3        347        349  \n",
              "4        288        100  \n",
              "\n",
              "[5 rows x 56 columns]"
            ]
          },
          "execution_count": 2,
          "metadata": {},
          "output_type": "execute_result"
        }
      ],
      "source": [
        "raw_data = pd.read_csv(\"http://genomedata.org/gen-viz-workshop/intro_to_deseq2/tutorial/E-GEOD-50760-raw-counts.tsv\", sep = \"\\t\")\n",
        "raw_data.head()"
      ]
    },
    {
      "cell_type": "code",
      "execution_count": 3,
      "metadata": {
        "colab": {
          "base_uri": "https://localhost:8080/",
          "height": 670
        },
        "id": "CHXHzyse_qUR",
        "outputId": "d3dbf79c-06f6-4e43-9ad7-4b33d0aa3051"
      },
      "outputs": [
        {
          "data": {
            "text/html": [
              "<div>\n",
              "<style scoped>\n",
              "    .dataframe tbody tr th:only-of-type {\n",
              "        vertical-align: middle;\n",
              "    }\n",
              "\n",
              "    .dataframe tbody tr th {\n",
              "        vertical-align: top;\n",
              "    }\n",
              "\n",
              "    .dataframe thead th {\n",
              "        text-align: right;\n",
              "    }\n",
              "</style>\n",
              "<table border=\"1\" class=\"dataframe\">\n",
              "  <thead>\n",
              "    <tr style=\"text-align: right;\">\n",
              "      <th></th>\n",
              "      <th>Run</th>\n",
              "      <th>Sample Characteristic[biopsy site]</th>\n",
              "      <th>Sample Characteristic Ontology Term[biopsy site]</th>\n",
              "      <th>Sample Characteristic[disease]</th>\n",
              "      <th>Sample Characteristic Ontology Term[disease]</th>\n",
              "      <th>Sample Characteristic[disease staging]</th>\n",
              "      <th>Sample Characteristic Ontology Term[disease staging]</th>\n",
              "      <th>Sample Characteristic[individual]</th>\n",
              "      <th>Sample Characteristic Ontology Term[individual]</th>\n",
              "      <th>Sample Characteristic[organism]</th>\n",
              "      <th>Sample Characteristic Ontology Term[organism]</th>\n",
              "      <th>Sample Characteristic[organism part]</th>\n",
              "      <th>Sample Characteristic Ontology Term[organism part]</th>\n",
              "      <th>Factor Value[biopsy site]</th>\n",
              "      <th>Factor Value Ontology Term[biopsy site]</th>\n",
              "      <th>Analysed</th>\n",
              "    </tr>\n",
              "  </thead>\n",
              "  <tbody>\n",
              "    <tr>\n",
              "      <th>0</th>\n",
              "      <td>SRR975551</td>\n",
              "      <td>primary tumor</td>\n",
              "      <td>http://www.ebi.ac.uk/efo/EFO_0000616</td>\n",
              "      <td>colorectal cancer</td>\n",
              "      <td>http://www.ebi.ac.uk/efo/EFO_0005842</td>\n",
              "      <td>Stage IV Colorectal Cancer</td>\n",
              "      <td>NaN</td>\n",
              "      <td>AMC_2</td>\n",
              "      <td>NaN</td>\n",
              "      <td>Homo sapiens</td>\n",
              "      <td>http://purl.obolibrary.org/obo/NCBITaxon_9606</td>\n",
              "      <td>colon</td>\n",
              "      <td>http://purl.obolibrary.org/obo/UBERON_0001155</td>\n",
              "      <td>primary tumor</td>\n",
              "      <td>http://www.ebi.ac.uk/efo/EFO_0000616</td>\n",
              "      <td>Yes</td>\n",
              "    </tr>\n",
              "    <tr>\n",
              "      <th>1</th>\n",
              "      <td>SRR975552</td>\n",
              "      <td>primary tumor</td>\n",
              "      <td>http://www.ebi.ac.uk/efo/EFO_0000616</td>\n",
              "      <td>colorectal cancer</td>\n",
              "      <td>http://www.ebi.ac.uk/efo/EFO_0005842</td>\n",
              "      <td>Stage IV Colorectal Cancer</td>\n",
              "      <td>NaN</td>\n",
              "      <td>AMC_3</td>\n",
              "      <td>NaN</td>\n",
              "      <td>Homo sapiens</td>\n",
              "      <td>http://purl.obolibrary.org/obo/NCBITaxon_9606</td>\n",
              "      <td>colon</td>\n",
              "      <td>http://purl.obolibrary.org/obo/UBERON_0001155</td>\n",
              "      <td>primary tumor</td>\n",
              "      <td>http://www.ebi.ac.uk/efo/EFO_0000616</td>\n",
              "      <td>Yes</td>\n",
              "    </tr>\n",
              "    <tr>\n",
              "      <th>2</th>\n",
              "      <td>SRR975553</td>\n",
              "      <td>primary tumor</td>\n",
              "      <td>http://www.ebi.ac.uk/efo/EFO_0000616</td>\n",
              "      <td>colorectal cancer</td>\n",
              "      <td>http://www.ebi.ac.uk/efo/EFO_0005842</td>\n",
              "      <td>Stage IV Colorectal Cancer</td>\n",
              "      <td>NaN</td>\n",
              "      <td>AMC_5</td>\n",
              "      <td>NaN</td>\n",
              "      <td>Homo sapiens</td>\n",
              "      <td>http://purl.obolibrary.org/obo/NCBITaxon_9606</td>\n",
              "      <td>colon</td>\n",
              "      <td>http://purl.obolibrary.org/obo/UBERON_0001155</td>\n",
              "      <td>primary tumor</td>\n",
              "      <td>http://www.ebi.ac.uk/efo/EFO_0000616</td>\n",
              "      <td>Yes</td>\n",
              "    </tr>\n",
              "    <tr>\n",
              "      <th>3</th>\n",
              "      <td>SRR975554</td>\n",
              "      <td>primary tumor</td>\n",
              "      <td>http://www.ebi.ac.uk/efo/EFO_0000616</td>\n",
              "      <td>colorectal cancer</td>\n",
              "      <td>http://www.ebi.ac.uk/efo/EFO_0005842</td>\n",
              "      <td>Stage IV Colorectal Cancer</td>\n",
              "      <td>NaN</td>\n",
              "      <td>AMC_6</td>\n",
              "      <td>NaN</td>\n",
              "      <td>Homo sapiens</td>\n",
              "      <td>http://purl.obolibrary.org/obo/NCBITaxon_9606</td>\n",
              "      <td>colon</td>\n",
              "      <td>http://purl.obolibrary.org/obo/UBERON_0001155</td>\n",
              "      <td>primary tumor</td>\n",
              "      <td>http://www.ebi.ac.uk/efo/EFO_0000616</td>\n",
              "      <td>Yes</td>\n",
              "    </tr>\n",
              "    <tr>\n",
              "      <th>4</th>\n",
              "      <td>SRR975555</td>\n",
              "      <td>primary tumor</td>\n",
              "      <td>http://www.ebi.ac.uk/efo/EFO_0000616</td>\n",
              "      <td>colorectal cancer</td>\n",
              "      <td>http://www.ebi.ac.uk/efo/EFO_0005842</td>\n",
              "      <td>Stage IV Colorectal Cancer</td>\n",
              "      <td>NaN</td>\n",
              "      <td>AMC_7</td>\n",
              "      <td>NaN</td>\n",
              "      <td>Homo sapiens</td>\n",
              "      <td>http://purl.obolibrary.org/obo/NCBITaxon_9606</td>\n",
              "      <td>colon</td>\n",
              "      <td>http://purl.obolibrary.org/obo/UBERON_0001155</td>\n",
              "      <td>primary tumor</td>\n",
              "      <td>http://www.ebi.ac.uk/efo/EFO_0000616</td>\n",
              "      <td>Yes</td>\n",
              "    </tr>\n",
              "    <tr>\n",
              "      <th>5</th>\n",
              "      <td>SRR975556</td>\n",
              "      <td>primary tumor</td>\n",
              "      <td>http://www.ebi.ac.uk/efo/EFO_0000616</td>\n",
              "      <td>colorectal cancer</td>\n",
              "      <td>http://www.ebi.ac.uk/efo/EFO_0005842</td>\n",
              "      <td>Stage IV Colorectal Cancer</td>\n",
              "      <td>NaN</td>\n",
              "      <td>AMC_8</td>\n",
              "      <td>NaN</td>\n",
              "      <td>Homo sapiens</td>\n",
              "      <td>http://purl.obolibrary.org/obo/NCBITaxon_9606</td>\n",
              "      <td>colon</td>\n",
              "      <td>http://purl.obolibrary.org/obo/UBERON_0001155</td>\n",
              "      <td>primary tumor</td>\n",
              "      <td>http://www.ebi.ac.uk/efo/EFO_0000616</td>\n",
              "      <td>Yes</td>\n",
              "    </tr>\n",
              "    <tr>\n",
              "      <th>6</th>\n",
              "      <td>SRR975557</td>\n",
              "      <td>primary tumor</td>\n",
              "      <td>http://www.ebi.ac.uk/efo/EFO_0000616</td>\n",
              "      <td>colorectal cancer</td>\n",
              "      <td>http://www.ebi.ac.uk/efo/EFO_0005842</td>\n",
              "      <td>Stage IV Colorectal Cancer</td>\n",
              "      <td>NaN</td>\n",
              "      <td>AMC_9</td>\n",
              "      <td>NaN</td>\n",
              "      <td>Homo sapiens</td>\n",
              "      <td>http://purl.obolibrary.org/obo/NCBITaxon_9606</td>\n",
              "      <td>colon</td>\n",
              "      <td>http://purl.obolibrary.org/obo/UBERON_0001155</td>\n",
              "      <td>primary tumor</td>\n",
              "      <td>http://www.ebi.ac.uk/efo/EFO_0000616</td>\n",
              "      <td>Yes</td>\n",
              "    </tr>\n",
              "    <tr>\n",
              "      <th>7</th>\n",
              "      <td>SRR975558</td>\n",
              "      <td>primary tumor</td>\n",
              "      <td>http://www.ebi.ac.uk/efo/EFO_0000616</td>\n",
              "      <td>colorectal cancer</td>\n",
              "      <td>http://www.ebi.ac.uk/efo/EFO_0005842</td>\n",
              "      <td>Stage IV Colorectal Cancer</td>\n",
              "      <td>NaN</td>\n",
              "      <td>AMC_10</td>\n",
              "      <td>NaN</td>\n",
              "      <td>Homo sapiens</td>\n",
              "      <td>http://purl.obolibrary.org/obo/NCBITaxon_9606</td>\n",
              "      <td>colon</td>\n",
              "      <td>http://purl.obolibrary.org/obo/UBERON_0001155</td>\n",
              "      <td>primary tumor</td>\n",
              "      <td>http://www.ebi.ac.uk/efo/EFO_0000616</td>\n",
              "      <td>Yes</td>\n",
              "    </tr>\n",
              "    <tr>\n",
              "      <th>8</th>\n",
              "      <td>SRR975559</td>\n",
              "      <td>primary tumor</td>\n",
              "      <td>http://www.ebi.ac.uk/efo/EFO_0000616</td>\n",
              "      <td>colorectal cancer</td>\n",
              "      <td>http://www.ebi.ac.uk/efo/EFO_0005842</td>\n",
              "      <td>Stage IV Colorectal Cancer</td>\n",
              "      <td>NaN</td>\n",
              "      <td>AMC_12</td>\n",
              "      <td>NaN</td>\n",
              "      <td>Homo sapiens</td>\n",
              "      <td>http://purl.obolibrary.org/obo/NCBITaxon_9606</td>\n",
              "      <td>colon</td>\n",
              "      <td>http://purl.obolibrary.org/obo/UBERON_0001155</td>\n",
              "      <td>primary tumor</td>\n",
              "      <td>http://www.ebi.ac.uk/efo/EFO_0000616</td>\n",
              "      <td>Yes</td>\n",
              "    </tr>\n",
              "    <tr>\n",
              "      <th>9</th>\n",
              "      <td>SRR975560</td>\n",
              "      <td>primary tumor</td>\n",
              "      <td>http://www.ebi.ac.uk/efo/EFO_0000616</td>\n",
              "      <td>colorectal cancer</td>\n",
              "      <td>http://www.ebi.ac.uk/efo/EFO_0005842</td>\n",
              "      <td>Stage IV Colorectal Cancer</td>\n",
              "      <td>NaN</td>\n",
              "      <td>AMC_13</td>\n",
              "      <td>NaN</td>\n",
              "      <td>Homo sapiens</td>\n",
              "      <td>http://purl.obolibrary.org/obo/NCBITaxon_9606</td>\n",
              "      <td>colon</td>\n",
              "      <td>http://purl.obolibrary.org/obo/UBERON_0001155</td>\n",
              "      <td>primary tumor</td>\n",
              "      <td>http://www.ebi.ac.uk/efo/EFO_0000616</td>\n",
              "      <td>Yes</td>\n",
              "    </tr>\n",
              "  </tbody>\n",
              "</table>\n",
              "</div>"
            ],
            "text/plain": [
              "         Run Sample Characteristic[biopsy site]  \\\n",
              "0  SRR975551                      primary tumor   \n",
              "1  SRR975552                      primary tumor   \n",
              "2  SRR975553                      primary tumor   \n",
              "3  SRR975554                      primary tumor   \n",
              "4  SRR975555                      primary tumor   \n",
              "5  SRR975556                      primary tumor   \n",
              "6  SRR975557                      primary tumor   \n",
              "7  SRR975558                      primary tumor   \n",
              "8  SRR975559                      primary tumor   \n",
              "9  SRR975560                      primary tumor   \n",
              "\n",
              "  Sample Characteristic Ontology Term[biopsy site]  \\\n",
              "0             http://www.ebi.ac.uk/efo/EFO_0000616   \n",
              "1             http://www.ebi.ac.uk/efo/EFO_0000616   \n",
              "2             http://www.ebi.ac.uk/efo/EFO_0000616   \n",
              "3             http://www.ebi.ac.uk/efo/EFO_0000616   \n",
              "4             http://www.ebi.ac.uk/efo/EFO_0000616   \n",
              "5             http://www.ebi.ac.uk/efo/EFO_0000616   \n",
              "6             http://www.ebi.ac.uk/efo/EFO_0000616   \n",
              "7             http://www.ebi.ac.uk/efo/EFO_0000616   \n",
              "8             http://www.ebi.ac.uk/efo/EFO_0000616   \n",
              "9             http://www.ebi.ac.uk/efo/EFO_0000616   \n",
              "\n",
              "  Sample Characteristic[disease] Sample Characteristic Ontology Term[disease]  \\\n",
              "0              colorectal cancer         http://www.ebi.ac.uk/efo/EFO_0005842   \n",
              "1              colorectal cancer         http://www.ebi.ac.uk/efo/EFO_0005842   \n",
              "2              colorectal cancer         http://www.ebi.ac.uk/efo/EFO_0005842   \n",
              "3              colorectal cancer         http://www.ebi.ac.uk/efo/EFO_0005842   \n",
              "4              colorectal cancer         http://www.ebi.ac.uk/efo/EFO_0005842   \n",
              "5              colorectal cancer         http://www.ebi.ac.uk/efo/EFO_0005842   \n",
              "6              colorectal cancer         http://www.ebi.ac.uk/efo/EFO_0005842   \n",
              "7              colorectal cancer         http://www.ebi.ac.uk/efo/EFO_0005842   \n",
              "8              colorectal cancer         http://www.ebi.ac.uk/efo/EFO_0005842   \n",
              "9              colorectal cancer         http://www.ebi.ac.uk/efo/EFO_0005842   \n",
              "\n",
              "  Sample Characteristic[disease staging]  \\\n",
              "0             Stage IV Colorectal Cancer   \n",
              "1             Stage IV Colorectal Cancer   \n",
              "2             Stage IV Colorectal Cancer   \n",
              "3             Stage IV Colorectal Cancer   \n",
              "4             Stage IV Colorectal Cancer   \n",
              "5             Stage IV Colorectal Cancer   \n",
              "6             Stage IV Colorectal Cancer   \n",
              "7             Stage IV Colorectal Cancer   \n",
              "8             Stage IV Colorectal Cancer   \n",
              "9             Stage IV Colorectal Cancer   \n",
              "\n",
              "   Sample Characteristic Ontology Term[disease staging]  \\\n",
              "0                                                NaN      \n",
              "1                                                NaN      \n",
              "2                                                NaN      \n",
              "3                                                NaN      \n",
              "4                                                NaN      \n",
              "5                                                NaN      \n",
              "6                                                NaN      \n",
              "7                                                NaN      \n",
              "8                                                NaN      \n",
              "9                                                NaN      \n",
              "\n",
              "  Sample Characteristic[individual]  \\\n",
              "0                             AMC_2   \n",
              "1                             AMC_3   \n",
              "2                             AMC_5   \n",
              "3                             AMC_6   \n",
              "4                             AMC_7   \n",
              "5                             AMC_8   \n",
              "6                             AMC_9   \n",
              "7                            AMC_10   \n",
              "8                            AMC_12   \n",
              "9                            AMC_13   \n",
              "\n",
              "   Sample Characteristic Ontology Term[individual]  \\\n",
              "0                                              NaN   \n",
              "1                                              NaN   \n",
              "2                                              NaN   \n",
              "3                                              NaN   \n",
              "4                                              NaN   \n",
              "5                                              NaN   \n",
              "6                                              NaN   \n",
              "7                                              NaN   \n",
              "8                                              NaN   \n",
              "9                                              NaN   \n",
              "\n",
              "  Sample Characteristic[organism]  \\\n",
              "0                    Homo sapiens   \n",
              "1                    Homo sapiens   \n",
              "2                    Homo sapiens   \n",
              "3                    Homo sapiens   \n",
              "4                    Homo sapiens   \n",
              "5                    Homo sapiens   \n",
              "6                    Homo sapiens   \n",
              "7                    Homo sapiens   \n",
              "8                    Homo sapiens   \n",
              "9                    Homo sapiens   \n",
              "\n",
              "   Sample Characteristic Ontology Term[organism]  \\\n",
              "0  http://purl.obolibrary.org/obo/NCBITaxon_9606   \n",
              "1  http://purl.obolibrary.org/obo/NCBITaxon_9606   \n",
              "2  http://purl.obolibrary.org/obo/NCBITaxon_9606   \n",
              "3  http://purl.obolibrary.org/obo/NCBITaxon_9606   \n",
              "4  http://purl.obolibrary.org/obo/NCBITaxon_9606   \n",
              "5  http://purl.obolibrary.org/obo/NCBITaxon_9606   \n",
              "6  http://purl.obolibrary.org/obo/NCBITaxon_9606   \n",
              "7  http://purl.obolibrary.org/obo/NCBITaxon_9606   \n",
              "8  http://purl.obolibrary.org/obo/NCBITaxon_9606   \n",
              "9  http://purl.obolibrary.org/obo/NCBITaxon_9606   \n",
              "\n",
              "  Sample Characteristic[organism part]  \\\n",
              "0                                colon   \n",
              "1                                colon   \n",
              "2                                colon   \n",
              "3                                colon   \n",
              "4                                colon   \n",
              "5                                colon   \n",
              "6                                colon   \n",
              "7                                colon   \n",
              "8                                colon   \n",
              "9                                colon   \n",
              "\n",
              "  Sample Characteristic Ontology Term[organism part]  \\\n",
              "0      http://purl.obolibrary.org/obo/UBERON_0001155   \n",
              "1      http://purl.obolibrary.org/obo/UBERON_0001155   \n",
              "2      http://purl.obolibrary.org/obo/UBERON_0001155   \n",
              "3      http://purl.obolibrary.org/obo/UBERON_0001155   \n",
              "4      http://purl.obolibrary.org/obo/UBERON_0001155   \n",
              "5      http://purl.obolibrary.org/obo/UBERON_0001155   \n",
              "6      http://purl.obolibrary.org/obo/UBERON_0001155   \n",
              "7      http://purl.obolibrary.org/obo/UBERON_0001155   \n",
              "8      http://purl.obolibrary.org/obo/UBERON_0001155   \n",
              "9      http://purl.obolibrary.org/obo/UBERON_0001155   \n",
              "\n",
              "  Factor Value[biopsy site] Factor Value Ontology Term[biopsy site] Analysed  \n",
              "0             primary tumor    http://www.ebi.ac.uk/efo/EFO_0000616      Yes  \n",
              "1             primary tumor    http://www.ebi.ac.uk/efo/EFO_0000616      Yes  \n",
              "2             primary tumor    http://www.ebi.ac.uk/efo/EFO_0000616      Yes  \n",
              "3             primary tumor    http://www.ebi.ac.uk/efo/EFO_0000616      Yes  \n",
              "4             primary tumor    http://www.ebi.ac.uk/efo/EFO_0000616      Yes  \n",
              "5             primary tumor    http://www.ebi.ac.uk/efo/EFO_0000616      Yes  \n",
              "6             primary tumor    http://www.ebi.ac.uk/efo/EFO_0000616      Yes  \n",
              "7             primary tumor    http://www.ebi.ac.uk/efo/EFO_0000616      Yes  \n",
              "8             primary tumor    http://www.ebi.ac.uk/efo/EFO_0000616      Yes  \n",
              "9             primary tumor    http://www.ebi.ac.uk/efo/EFO_0000616      Yes  "
            ]
          },
          "execution_count": 3,
          "metadata": {},
          "output_type": "execute_result"
        }
      ],
      "source": [
        "sampleData = pd.read_csv(\"http://genomedata.org/gen-viz-workshop/intro_to_deseq2/tutorial/E-GEOD-50760-experiment-design.tsv\",  sep = \"\\t\")\n",
        "sampleData.head(10)"
      ]
    },
    {
      "cell_type": "markdown",
      "metadata": {
        "id": "2cD80wNp_qUS"
      },
      "source": [
        "#### 1. Data Preprocessing\n",
        "\n"
      ]
    },
    {
      "cell_type": "markdown",
      "metadata": {},
      "source": [
        "Types of tissue:"
      ]
    },
    {
      "cell_type": "code",
      "execution_count": 4,
      "metadata": {
        "colab": {
          "base_uri": "https://localhost:8080/"
        },
        "id": "mrunqplxkFuS",
        "outputId": "a289ca8f-2230-4df0-e68c-8fab84147280"
      },
      "outputs": [
        {
          "data": {
            "text/plain": [
              "array(['primary tumor', 'normal',\n",
              "       'colorectal cancer metastatic in the liver'], dtype=object)"
            ]
          },
          "execution_count": 4,
          "metadata": {},
          "output_type": "execute_result"
        }
      ],
      "source": [
        "sampleData[\"Sample Characteristic[biopsy site]\"].unique()"
      ]
    },
    {
      "cell_type": "markdown",
      "metadata": {
        "id": "eNJqM8S9_qUS"
      },
      "source": [
        "Let's compare TREM1 and CTGF expression in different tissues "
      ]
    },
    {
      "cell_type": "code",
      "execution_count": 5,
      "metadata": {
        "id": "BeiAj60uSdhd"
      },
      "outputs": [],
      "source": [
        "new_data = raw_data[(raw_data['Gene Name']=='TREM1')|(raw_data['Gene Name']=='CTGF')].iloc[:,2:].T\n",
        "new_data.columns = ['TREM1','CTGF']\n",
        "new_data['Run'] = new_data.index\n",
        "new_data = new_data.merge(sampleData.iloc[:,:2], how='left', on='Run')"
      ]
    },
    {
      "cell_type": "code",
      "execution_count": 6,
      "metadata": {
        "colab": {
          "base_uri": "https://localhost:8080/",
          "height": 469
        },
        "id": "XFx2-ViaS_A1",
        "outputId": "1d533daa-32fa-4552-9760-411c4407b355"
      },
      "outputs": [
        {
          "data": {
            "image/png": "[encoded data removed]",
            "text/plain": [
              "<Figure size 1080x576 with 2 Axes>"
            ]
          },
          "metadata": {},
          "output_type": "display_data"
        }
      ],
      "source": [
        "plt.figure(figsize = (15,8))\n",
        "sns.set_theme(style=\"whitegrid\")\n",
        "ax1 = plt.subplot(1, 2, 1)\n",
        "sns.boxplot(x=[\"\"]*len(new_data['TREM1']),y = new_data['TREM1'], hue = new_data['Sample Characteristic[biopsy site]'], ax = ax1)\n",
        "ax2 = plt.subplot(1, 2, 2)\n",
        "sns.boxplot(x=[\"\"]*len(new_data['CTGF']),y = new_data['CTGF'], hue = new_data['Sample Characteristic[biopsy site]'], ax = ax2)\n",
        "plt.legend(loc ='upper left')\n",
        "plt.show()"
      ]
    },
    {
      "cell_type": "markdown",
      "metadata": {
        "id": "DpgCxPta4H8v"
      },
      "source": [
        "It can be assumed that CTGF gene is more informative for cancer diagnosis because healthy cells contain less CTGF (confidence interval) than tumor cells"
      ]
    },
    {
      "cell_type": "code",
      "execution_count": 6,
      "metadata": {
        "id": "n8J6FNCt_qUT"
      },
      "outputs": [],
      "source": [
        "gene_dict = raw_data.set_index('Gene ID').to_dict()['Gene Name']\t\n"
      ]
    },
    {
      "cell_type": "markdown",
      "metadata": {
        "id": "0xDT455T_qUT"
      },
      "source": [
        "Creating a matrix with expression levels for control and primary tumor"
      ]
    },
    {
      "cell_type": "code",
      "execution_count": 7,
      "metadata": {
        "id": "aZBxiM7qGQtq"
      },
      "outputs": [],
      "source": [
        "rawCounts = raw_data[sampleData[(sampleData['Sample Characteristic[biopsy site]'] == 'normal') | (sampleData['Sample Characteristic[biopsy site]'] == 'primary tumor') ]['Run']]\n",
        "rawCounts.index=raw_data['Gene ID']"
      ]
    },
    {
      "cell_type": "code",
      "execution_count": 8,
      "metadata": {
        "colab": {
          "base_uri": "https://localhost:8080/",
          "height": 331
        },
        "id": "TLKX8dZhlqOh",
        "outputId": "4713747c-6321-40f8-c569-7eea99e81056"
      },
      "outputs": [
        {
          "data": {
            "text/html": [
              "<div>\n",
              "<style scoped>\n",
              "    .dataframe tbody tr th:only-of-type {\n",
              "        vertical-align: middle;\n",
              "    }\n",
              "\n",
              "    .dataframe tbody tr th {\n",
              "        vertical-align: top;\n",
              "    }\n",
              "\n",
              "    .dataframe thead th {\n",
              "        text-align: right;\n",
              "    }\n",
              "</style>\n",
              "<table border=\"1\" class=\"dataframe\">\n",
              "  <thead>\n",
              "    <tr style=\"text-align: right;\">\n",
              "      <th></th>\n",
              "      <th>SRR975551</th>\n",
              "      <th>SRR975552</th>\n",
              "      <th>SRR975553</th>\n",
              "      <th>SRR975554</th>\n",
              "      <th>SRR975555</th>\n",
              "      <th>SRR975556</th>\n",
              "      <th>SRR975557</th>\n",
              "      <th>SRR975558</th>\n",
              "      <th>SRR975559</th>\n",
              "      <th>SRR975560</th>\n",
              "      <th>...</th>\n",
              "      <th>SRR975578</th>\n",
              "      <th>SRR975579</th>\n",
              "      <th>SRR975580</th>\n",
              "      <th>SRR975581</th>\n",
              "      <th>SRR975582</th>\n",
              "      <th>SRR975583</th>\n",
              "      <th>SRR975584</th>\n",
              "      <th>SRR975585</th>\n",
              "      <th>SRR975586</th>\n",
              "      <th>SRR975587</th>\n",
              "    </tr>\n",
              "    <tr>\n",
              "      <th>Gene ID</th>\n",
              "      <th></th>\n",
              "      <th></th>\n",
              "      <th></th>\n",
              "      <th></th>\n",
              "      <th></th>\n",
              "      <th></th>\n",
              "      <th></th>\n",
              "      <th></th>\n",
              "      <th></th>\n",
              "      <th></th>\n",
              "      <th></th>\n",
              "      <th></th>\n",
              "      <th></th>\n",
              "      <th></th>\n",
              "      <th></th>\n",
              "      <th></th>\n",
              "      <th></th>\n",
              "      <th></th>\n",
              "      <th></th>\n",
              "      <th></th>\n",
              "      <th></th>\n",
              "    </tr>\n",
              "  </thead>\n",
              "  <tbody>\n",
              "    <tr>\n",
              "      <th>ENSG00000000003</th>\n",
              "      <td>6617</td>\n",
              "      <td>1352</td>\n",
              "      <td>1492</td>\n",
              "      <td>3390</td>\n",
              "      <td>1464</td>\n",
              "      <td>1251</td>\n",
              "      <td>207</td>\n",
              "      <td>1333</td>\n",
              "      <td>2126</td>\n",
              "      <td>1799</td>\n",
              "      <td>...</td>\n",
              "      <td>1008</td>\n",
              "      <td>310</td>\n",
              "      <td>2704</td>\n",
              "      <td>674</td>\n",
              "      <td>1121</td>\n",
              "      <td>1776</td>\n",
              "      <td>981</td>\n",
              "      <td>1185</td>\n",
              "      <td>2012</td>\n",
              "      <td>3190</td>\n",
              "    </tr>\n",
              "    <tr>\n",
              "      <th>ENSG00000000005</th>\n",
              "      <td>69</td>\n",
              "      <td>1</td>\n",
              "      <td>20</td>\n",
              "      <td>23</td>\n",
              "      <td>12</td>\n",
              "      <td>4</td>\n",
              "      <td>20</td>\n",
              "      <td>2</td>\n",
              "      <td>3</td>\n",
              "      <td>6</td>\n",
              "      <td>...</td>\n",
              "      <td>10</td>\n",
              "      <td>13</td>\n",
              "      <td>21</td>\n",
              "      <td>5</td>\n",
              "      <td>19</td>\n",
              "      <td>3</td>\n",
              "      <td>10</td>\n",
              "      <td>7</td>\n",
              "      <td>2</td>\n",
              "      <td>6</td>\n",
              "    </tr>\n",
              "    <tr>\n",
              "      <th>ENSG00000000419</th>\n",
              "      <td>2798</td>\n",
              "      <td>714</td>\n",
              "      <td>510</td>\n",
              "      <td>1140</td>\n",
              "      <td>1667</td>\n",
              "      <td>322</td>\n",
              "      <td>273</td>\n",
              "      <td>621</td>\n",
              "      <td>1031</td>\n",
              "      <td>677</td>\n",
              "      <td>...</td>\n",
              "      <td>271</td>\n",
              "      <td>213</td>\n",
              "      <td>783</td>\n",
              "      <td>268</td>\n",
              "      <td>467</td>\n",
              "      <td>452</td>\n",
              "      <td>419</td>\n",
              "      <td>473</td>\n",
              "      <td>607</td>\n",
              "      <td>1274</td>\n",
              "    </tr>\n",
              "    <tr>\n",
              "      <th>ENSG00000000457</th>\n",
              "      <td>486</td>\n",
              "      <td>629</td>\n",
              "      <td>398</td>\n",
              "      <td>239</td>\n",
              "      <td>383</td>\n",
              "      <td>290</td>\n",
              "      <td>164</td>\n",
              "      <td>452</td>\n",
              "      <td>172</td>\n",
              "      <td>229</td>\n",
              "      <td>...</td>\n",
              "      <td>243</td>\n",
              "      <td>159</td>\n",
              "      <td>324</td>\n",
              "      <td>257</td>\n",
              "      <td>360</td>\n",
              "      <td>409</td>\n",
              "      <td>310</td>\n",
              "      <td>430</td>\n",
              "      <td>248</td>\n",
              "      <td>314</td>\n",
              "    </tr>\n",
              "    <tr>\n",
              "      <th>ENSG00000000460</th>\n",
              "      <td>466</td>\n",
              "      <td>342</td>\n",
              "      <td>73</td>\n",
              "      <td>227</td>\n",
              "      <td>193</td>\n",
              "      <td>35</td>\n",
              "      <td>38</td>\n",
              "      <td>184</td>\n",
              "      <td>174</td>\n",
              "      <td>68</td>\n",
              "      <td>...</td>\n",
              "      <td>21</td>\n",
              "      <td>17</td>\n",
              "      <td>131</td>\n",
              "      <td>52</td>\n",
              "      <td>57</td>\n",
              "      <td>86</td>\n",
              "      <td>70</td>\n",
              "      <td>65</td>\n",
              "      <td>79</td>\n",
              "      <td>251</td>\n",
              "    </tr>\n",
              "  </tbody>\n",
              "</table>\n",
              "<p>5 rows × 37 columns</p>\n",
              "</div>"
            ],
            "text/plain": [
              "                 SRR975551  SRR975552  SRR975553  SRR975554  SRR975555  \\\n",
              "Gene ID                                                                  \n",
              "ENSG00000000003       6617       1352       1492       3390       1464   \n",
              "ENSG00000000005         69          1         20         23         12   \n",
              "ENSG00000000419       2798        714        510       1140       1667   \n",
              "ENSG00000000457        486        629        398        239        383   \n",
              "ENSG00000000460        466        342         73        227        193   \n",
              "\n",
              "                 SRR975556  SRR975557  SRR975558  SRR975559  SRR975560  ...  \\\n",
              "Gene ID                                                                 ...   \n",
              "ENSG00000000003       1251        207       1333       2126       1799  ...   \n",
              "ENSG00000000005          4         20          2          3          6  ...   \n",
              "ENSG00000000419        322        273        621       1031        677  ...   \n",
              "ENSG00000000457        290        164        452        172        229  ...   \n",
              "ENSG00000000460         35         38        184        174         68  ...   \n",
              "\n",
              "                 SRR975578  SRR975579  SRR975580  SRR975581  SRR975582  \\\n",
              "Gene ID                                                                  \n",
              "ENSG00000000003       1008        310       2704        674       1121   \n",
              "ENSG00000000005         10         13         21          5         19   \n",
              "ENSG00000000419        271        213        783        268        467   \n",
              "ENSG00000000457        243        159        324        257        360   \n",
              "ENSG00000000460         21         17        131         52         57   \n",
              "\n",
              "                 SRR975583  SRR975584  SRR975585  SRR975586  SRR975587  \n",
              "Gene ID                                                                 \n",
              "ENSG00000000003       1776        981       1185       2012       3190  \n",
              "ENSG00000000005          3         10          7          2          6  \n",
              "ENSG00000000419        452        419        473        607       1274  \n",
              "ENSG00000000457        409        310        430        248        314  \n",
              "ENSG00000000460         86         70         65         79        251  \n",
              "\n",
              "[5 rows x 37 columns]"
            ]
          },
          "execution_count": 8,
          "metadata": {},
          "output_type": "execute_result"
        }
      ],
      "source": [
        "rawCounts.head()"
      ]
    },
    {
      "cell_type": "code",
      "execution_count": 9,
      "metadata": {
        "id": "bFwsIW5EL4t9"
      },
      "outputs": [],
      "source": [
        "rawCounts_array = rawCounts.to_numpy()"
      ]
    },
    {
      "cell_type": "code",
      "execution_count": 10,
      "metadata": {
        "colab": {
          "base_uri": "https://localhost:8080/"
        },
        "id": "fMefgowMXuMs",
        "outputId": "9b18bc66-11d0-4cd7-dddb-5e20dabeeeb5"
      },
      "outputs": [
        {
          "data": {
            "text/plain": [
              "(65217, 37)"
            ]
          },
          "execution_count": 10,
          "metadata": {},
          "output_type": "execute_result"
        }
      ],
      "source": [
        "rawCounts_array.shape"
      ]
    },
    {
      "cell_type": "code",
      "execution_count": 11,
      "metadata": {
        "colab": {
          "base_uri": "https://localhost:8080/"
        },
        "id": "FF3jZXibMANs",
        "outputId": "dffc878e-0dff-4ca0-85af-c84cf22572f4"
      },
      "outputs": [
        {
          "data": {
            "text/plain": [
              "array([[6617, 1352, 1492, ..., 1185, 2012, 3190],\n",
              "       [  69,    1,   20, ...,    7,    2,    6],\n",
              "       [2798,  714,  510, ...,  473,  607, 1274],\n",
              "       ...,\n",
              "       [   0,    1,    0, ...,    1,    0,    0],\n",
              "       [   0,    0,    0, ...,    0,    0,    0],\n",
              "       [   0,    0,    0, ...,    0,    0,    0]], dtype=int64)"
            ]
          },
          "execution_count": 11,
          "metadata": {},
          "output_type": "execute_result"
        }
      ],
      "source": [
        "rawCounts_array"
      ]
    },
    {
      "cell_type": "markdown",
      "metadata": {
        "id": "5659tdw-_qUU"
      },
      "source": [
        "Deleating small expressed genes:"
      ]
    },
    {
      "cell_type": "code",
      "execution_count": 12,
      "metadata": {
        "id": "bXf6uZ0C_qUU"
      },
      "outputs": [],
      "source": [
        "big_enough = list(set((np.sum(rawCounts_array,axis=1) >5)*np.arange(rawCounts_array.shape[0])))\n",
        "clear_data = rawCounts.iloc[big_enough]"
      ]
    },
    {
      "cell_type": "code",
      "execution_count": 13,
      "metadata": {
        "colab": {
          "base_uri": "https://localhost:8080/"
        },
        "id": "j2X3IYp8Nl2x",
        "outputId": "3bda7987-23eb-4aea-d175-b2e20817ec7c"
      },
      "outputs": [
        {
          "data": {
            "text/plain": [
              "33356"
            ]
          },
          "execution_count": 13,
          "metadata": {},
          "output_type": "execute_result"
        }
      ],
      "source": [
        "clear_data.shape[0]"
      ]
    },
    {
      "cell_type": "code",
      "execution_count": 14,
      "metadata": {
        "colab": {
          "base_uri": "https://localhost:8080/"
        },
        "id": "39dNE3JdM2Ei",
        "outputId": "6d2efb35-8857-4458-e4c5-336d6b3e8b21"
      },
      "outputs": [
        {
          "data": {
            "text/plain": [
              "65217"
            ]
          },
          "execution_count": 14,
          "metadata": {},
          "output_type": "execute_result"
        }
      ],
      "source": [
        "rawCounts_array.shape[0]"
      ]
    },
    {
      "cell_type": "markdown",
      "metadata": {
        "id": "HVVoHS6dq9Zp"
      },
      "source": [
        "Almost half of genes were uninformative"
      ]
    },
    {
      "cell_type": "code",
      "execution_count": 15,
      "metadata": {
        "id": "QiM2cKen_qUV"
      },
      "outputs": [],
      "source": [
        "clear_data_array = clear_data.to_numpy()\n",
        "std_array = np.std(clear_data_array, axis=1)"
      ]
    },
    {
      "cell_type": "code",
      "execution_count": 16,
      "metadata": {
        "colab": {
          "base_uri": "https://localhost:8080/",
          "height": 485
        },
        "id": "KlVly3mqP8fa",
        "outputId": "6d5c75b3-58f7-436e-fab2-1590fb4ab653"
      },
      "outputs": [
        {
          "data": {
            "image/png": "[encoded data removed]",
            "text/plain": [
              "<Figure size 864x576 with 1 Axes>"
            ]
          },
          "metadata": {
            "needs_background": "light"
          },
          "output_type": "display_data"
        }
      ],
      "source": [
        "plt.figure(figsize = (12,8))\n",
        "plt.hist(std_array[std_array<1000],bins = 10, color='lightsteelblue')\n",
        "plt.ylabel('Gene variance lower 1000')\n",
        "plt.show()"
      ]
    },
    {
      "cell_type": "code",
      "execution_count": 17,
      "metadata": {
        "colab": {
          "base_uri": "https://localhost:8080/",
          "height": 485
        },
        "id": "nrkoQyZWPJBp",
        "outputId": "7bafdb37-e431-4f5f-9290-00f3fa8837e3"
      },
      "outputs": [
        {
          "data": {
            "image/png": "[encoded data removed]",
            "text/plain": [
              "<Figure size 864x576 with 1 Axes>"
            ]
          },
          "metadata": {
            "needs_background": "light"
          },
          "output_type": "display_data"
        }
      ],
      "source": [
        "plt.figure(figsize = (12,8))\n",
        "plt.hist(std_array[std_array<100],bins = 10, color='bisque')\n",
        "plt.ylabel('Gene variance lower 100')\n",
        "plt.show()"
      ]
    },
    {
      "cell_type": "markdown",
      "metadata": {
        "id": "eSu8lxz-Da_7"
      },
      "source": [
        "Let's take the 5000 genes with the highest variance"
      ]
    },
    {
      "cell_type": "code",
      "execution_count": 18,
      "metadata": {
        "id": "gGIiVmqYRY3x"
      },
      "outputs": [],
      "source": [
        "biggest_std_ind=np.argsort(std_array)[-5000::-1]"
      ]
    },
    {
      "cell_type": "code",
      "execution_count": 19,
      "metadata": {
        "colab": {
          "base_uri": "https://localhost:8080/"
        },
        "id": "cMfgWfMVRoUF",
        "outputId": "66c55677-0cb1-4b26-95f9-5167dfa21ac5"
      },
      "outputs": [
        {
          "data": {
            "text/plain": [
              "Index(['ENSG00000137960', 'ENSG00000165507', 'ENSG00000103496',\n",
              "       'ENSG00000138031', 'ENSG00000168878', 'ENSG00000145715',\n",
              "       'ENSG00000134108', 'ENSG00000165156', 'ENSG00000108511',\n",
              "       'ENSG00000139726',\n",
              "       ...\n",
              "       'ENSG00000267393', 'ENSG00000231503', 'ENSG00000231255',\n",
              "       'ENSG00000267144', 'ENSG00000231049', 'ENSG00000231047',\n",
              "       'ENSG00000255428', 'ENSG00000267028', 'ENSG00000213328',\n",
              "       'ENSG00000270140'],\n",
              "      dtype='object', name='Gene ID', length=28357)"
            ]
          },
          "execution_count": 19,
          "metadata": {},
          "output_type": "execute_result"
        }
      ],
      "source": [
        "clear_data.iloc[biggest_std_ind].index"
      ]
    },
    {
      "cell_type": "markdown",
      "metadata": {
        "id": "cQgI5hm8_qUX"
      },
      "source": [
        "#### 2. Building a linear model"
      ]
    },
    {
      "cell_type": "code",
      "execution_count": 20,
      "metadata": {
        "id": "1rByiJcc-FHq"
      },
      "outputs": [],
      "source": [
        "data_for_regr = new_data[(new_data['Sample Characteristic[biopsy site]'] == 'normal') | (new_data['Sample Characteristic[biopsy site]'] == 'primary tumor') ]\n",
        "data_for_regr = data_for_regr.iloc[:,[0,3]]\n",
        "typee=list((np.array(data_for_regr['Sample Characteristic[biopsy site]']) == 'primary tumor')*1)\n",
        "data_for_regr.insert(2, 'Type',typee)"
      ]
    },
    {
      "cell_type": "code",
      "execution_count": 21,
      "metadata": {
        "id": "ZtarDTQP_qUX"
      },
      "outputs": [],
      "source": [
        "# control== 0\n",
        "# primary tumour==1\n",
        "X = np.array(data_for_regr['Type']).reshape(-1, 1)\n",
        "y = np.array(data_for_regr['TREM1'])"
      ]
    },
    {
      "cell_type": "code",
      "execution_count": 22,
      "metadata": {
        "id": "0VR2dL5PfCKF"
      },
      "outputs": [],
      "source": [
        "model = LinearRegression().fit(X,y)\n"
      ]
    },
    {
      "cell_type": "code",
      "execution_count": 23,
      "metadata": {
        "colab": {
          "base_uri": "https://localhost:8080/"
        },
        "id": "3P6MdvlYCR2o",
        "outputId": "032eb275-c106-4f89-abc3-522c23dcd671"
      },
      "outputs": [
        {
          "name": "stdout",
          "output_type": "stream",
          "text": [
            "[655.56725146]\n",
            "1179.2105263157896\n"
          ]
        }
      ],
      "source": [
        "print(model.coef_)\n",
        "print(model.intercept_)"
      ]
    },
    {
      "cell_type": "code",
      "execution_count": 24,
      "metadata": {
        "colab": {
          "base_uri": "https://localhost:8080/",
          "height": 320
        },
        "id": "wgB7FYOo_qUY",
        "outputId": "9ab51056-3eb4-4148-e2e1-bb111863dd76"
      },
      "outputs": [
        {
          "data": {
            "image/png": "[encoded data removed]",
            "text/plain": [
              "<Figure size 720x360 with 1 Axes>"
            ]
          },
          "metadata": {
            "needs_background": "light"
          },
          "output_type": "display_data"
        }
      ],
      "source": [
        "plt.figure(figsize = (10,5))\n",
        "sns.set_style('whitegrid')\n",
        "plt.scatter(X,y, color= 'lightsteelblue', label='Experiment data')\n",
        "plt.scatter(X,model.predict(X), color= 'r', label='Regression')\n",
        "plt.legend()\n",
        "plt.show()"
      ]
    },
    {
      "cell_type": "code",
      "execution_count": 7,
      "metadata": {
        "id": "PcegTGpjZsjd"
      },
      "outputs": [],
      "source": [
        "normal_names = list(sampleData[sampleData['Sample Characteristic[biopsy site]'] == 'normal']['Run'])\n",
        "X=list(rawCounts)\n",
        "for i in range(len(X)):\n",
        "  if X[i] in set(normal_names):\n",
        "    X[i]=0\n",
        "  else:\n",
        "    X[i]=1\n",
        "X=np.array(X).reshape(-1, 1)"
      ]
    },
    {
      "cell_type": "code",
      "execution_count": 8,
      "metadata": {
        "id": "LUjyqCc6_qUZ"
      },
      "outputs": [],
      "source": [
        "def get_gene_coef(data,X):\n",
        "#y=kx+b\n",
        "    k=[]\n",
        "    bias=[]\n",
        "    for i in tqdm(range(data.shape[0])):\n",
        "      model = LinearRegression().fit(X,data.iloc[i])\n",
        "      k.append(model.coef_[0])\n",
        "      bias.append(model.intercept_)\n",
        "\n",
        "    coef_df = pd.DataFrame(list(zip(k, bias)), columns =['k', 'b'])\n",
        "    coef_df.index=data.index\n",
        "    return coef_df"
      ]
    },
    {
      "cell_type": "code",
      "execution_count": 36,
      "metadata": {
        "colab": {
          "base_uri": "https://localhost:8080/"
        },
        "id": "yJI2K_M7ofke",
        "outputId": "d458168c-712a-46fe-db44-273076fdc6c0"
      },
      "outputs": [
        {
          "name": "stderr",
          "output_type": "stream",
          "text": [
            "100%|██████████| 65217/65217 [00:40<00:00, 1606.87it/s]\n"
          ]
        }
      ],
      "source": [
        "result = get_gene_coef(rawCounts,X)"
      ]
    },
    {
      "cell_type": "code",
      "execution_count": 39,
      "metadata": {
        "colab": {
          "base_uri": "https://localhost:8080/",
          "height": 455
        },
        "id": "GTpcSdVKpf6z",
        "outputId": "ae52be56-f8d2-4332-d2b0-506c784ea7ce"
      },
      "outputs": [
        {
          "data": {
            "text/html": [
              "\n",
              "  <div id=\"df-73a22f68-d1f5-4253-9078-bea24a347c89\">\n",
              "    <div class=\"colab-df-container\">\n",
              "      <div>\n",
              "<style scoped>\n",
              "    .dataframe tbody tr th:only-of-type {\n",
              "        vertical-align: middle;\n",
              "    }\n",
              "\n",
              "    .dataframe tbody tr th {\n",
              "        vertical-align: top;\n",
              "    }\n",
              "\n",
              "    .dataframe thead th {\n",
              "        text-align: right;\n",
              "    }\n",
              "</style>\n",
              "<table border=\"1\" class=\"dataframe\">\n",
              "  <thead>\n",
              "    <tr style=\"text-align: right;\">\n",
              "      <th></th>\n",
              "      <th>k</th>\n",
              "      <th>b</th>\n",
              "    </tr>\n",
              "    <tr>\n",
              "      <th>Gene ID</th>\n",
              "      <th></th>\n",
              "      <th></th>\n",
              "    </tr>\n",
              "  </thead>\n",
              "  <tbody>\n",
              "    <tr>\n",
              "      <th>ENSG00000198804</th>\n",
              "      <td>-133289.535088</td>\n",
              "      <td>610757.368421</td>\n",
              "    </tr>\n",
              "    <tr>\n",
              "      <th>ENSG00000210082</th>\n",
              "      <td>-74949.023392</td>\n",
              "      <td>275586.578947</td>\n",
              "    </tr>\n",
              "    <tr>\n",
              "      <th>ENSG00000211890</th>\n",
              "      <td>-71294.675439</td>\n",
              "      <td>94575.842105</td>\n",
              "    </tr>\n",
              "    <tr>\n",
              "      <th>ENSG00000162896</th>\n",
              "      <td>-55821.242690</td>\n",
              "      <td>118070.631579</td>\n",
              "    </tr>\n",
              "    <tr>\n",
              "      <th>ENSG00000132465</th>\n",
              "      <td>-52888.391813</td>\n",
              "      <td>74839.947368</td>\n",
              "    </tr>\n",
              "    <tr>\n",
              "      <th>...</th>\n",
              "      <td>...</td>\n",
              "      <td>...</td>\n",
              "    </tr>\n",
              "    <tr>\n",
              "      <th>ENSG00000102837</th>\n",
              "      <td>21929.415205</td>\n",
              "      <td>8612.473684</td>\n",
              "    </tr>\n",
              "    <tr>\n",
              "      <th>ENSG00000164692</th>\n",
              "      <td>25453.959064</td>\n",
              "      <td>7183.263158</td>\n",
              "    </tr>\n",
              "    <tr>\n",
              "      <th>ENSG00000168542</th>\n",
              "      <td>34219.365497</td>\n",
              "      <td>11489.578947</td>\n",
              "    </tr>\n",
              "    <tr>\n",
              "      <th>ENSG00000108821</th>\n",
              "      <td>37559.435673</td>\n",
              "      <td>5615.842105</td>\n",
              "    </tr>\n",
              "    <tr>\n",
              "      <th>ENSG00000156508</th>\n",
              "      <td>45933.961988</td>\n",
              "      <td>154458.315789</td>\n",
              "    </tr>\n",
              "  </tbody>\n",
              "</table>\n",
              "<p>65217 rows × 2 columns</p>\n",
              "</div>\n",
              "      <button class=\"colab-df-convert\" onclick=\"convertToInteractive('df-73a22f68-d1f5-4253-9078-bea24a347c89')\"\n",
              "              title=\"Convert this dataframe to an interactive table.\"\n",
              "              style=\"display:none;\">\n",
              "        \n",
              "  <svg xmlns=\"http://www.w3.org/2000/svg\" height=\"24px\"viewBox=\"0 0 24 24\"\n",
              "       width=\"24px\">\n",
              "    <path d=\"M0 0h24v24H0V0z\" fill=\"none\"/>\n",
              "    <path d=\"M18.56 5.44l.94 2.06.94-2.06 2.06-.94-2.06-.94-.94-2.06-.94 2.06-2.06.94zm-11 1L8.5 8.5l.94-2.06 2.06-.94-2.06-.94L8.5 2.5l-.94 2.06-2.06.94zm10 10l.94 2.06.94-2.06 2.06-.94-2.06-.94-.94-2.06-.94 2.06-2.06.94z\"/><path d=\"M17.41 7.96l-1.37-1.37c-.4-.4-.92-.59-1.43-.59-.52 0-1.04.2-1.43.59L10.3 9.45l-7.72 7.72c-.78.78-.78 2.05 0 2.83L4 21.41c.39.39.9.59 1.41.59.51 0 1.02-.2 1.41-.59l7.78-7.78 2.81-2.81c.8-.78.8-2.07 0-2.86zM5.41 20L4 18.59l7.72-7.72 1.47 1.35L5.41 20z\"/>\n",
              "  </svg>\n",
              "      </button>\n",
              "      \n",
              "  <style>\n",
              "    .colab-df-container {\n",
              "      display:flex;\n",
              "      flex-wrap:wrap;\n",
              "      gap: 12px;\n",
              "    }\n",
              "\n",
              "    .colab-df-convert {\n",
              "      background-color: #E8F0FE;\n",
              "      border: none;\n",
              "      border-radius: 50%;\n",
              "      cursor: pointer;\n",
              "      display: none;\n",
              "      fill: #1967D2;\n",
              "      height: 32px;\n",
              "      padding: 0 0 0 0;\n",
              "      width: 32px;\n",
              "    }\n",
              "\n",
              "    .colab-df-convert:hover {\n",
              "      background-color: #E2EBFA;\n",
              "      box-shadow: 0px 1px 2px rgba(60, 64, 67, 0.3), 0px 1px 3px 1px rgba(60, 64, 67, 0.15);\n",
              "      fill: #174EA6;\n",
              "    }\n",
              "\n",
              "    [theme=dark] .colab-df-convert {\n",
              "      background-color: #3B4455;\n",
              "      fill: #D2E3FC;\n",
              "    }\n",
              "\n",
              "    [theme=dark] .colab-df-convert:hover {\n",
              "      background-color: #434B5C;\n",
              "      box-shadow: 0px 1px 3px 1px rgba(0, 0, 0, 0.15);\n",
              "      filter: drop-shadow(0px 1px 2px rgba(0, 0, 0, 0.3));\n",
              "      fill: #FFFFFF;\n",
              "    }\n",
              "  </style>\n",
              "\n",
              "      <script>\n",
              "        const buttonEl =\n",
              "          document.querySelector('#df-73a22f68-d1f5-4253-9078-bea24a347c89 button.colab-df-convert');\n",
              "        buttonEl.style.display =\n",
              "          google.colab.kernel.accessAllowed ? 'block' : 'none';\n",
              "\n",
              "        async function convertToInteractive(key) {\n",
              "          const element = document.querySelector('#df-73a22f68-d1f5-4253-9078-bea24a347c89');\n",
              "          const dataTable =\n",
              "            await google.colab.kernel.invokeFunction('convertToInteractive',\n",
              "                                                     [key], {});\n",
              "          if (!dataTable) return;\n",
              "\n",
              "          const docLinkHtml = 'Like what you see? Visit the ' +\n",
              "            '<a target=\"_blank\" href=https://colab.research.google.com/notebooks/data_table.ipynb>data table notebook</a>'\n",
              "            + ' to learn more about interactive tables.';\n",
              "          element.innerHTML = '';\n",
              "          dataTable['output_type'] = 'display_data';\n",
              "          await google.colab.output.renderOutput(dataTable, element);\n",
              "          const docLink = document.createElement('div');\n",
              "          docLink.innerHTML = docLinkHtml;\n",
              "          element.appendChild(docLink);\n",
              "        }\n",
              "      </script>\n",
              "    </div>\n",
              "  </div>\n",
              "  "
            ],
            "text/plain": [
              "                             k              b\n",
              "Gene ID                                      \n",
              "ENSG00000198804 -133289.535088  610757.368421\n",
              "ENSG00000210082  -74949.023392  275586.578947\n",
              "ENSG00000211890  -71294.675439   94575.842105\n",
              "ENSG00000162896  -55821.242690  118070.631579\n",
              "ENSG00000132465  -52888.391813   74839.947368\n",
              "...                        ...            ...\n",
              "ENSG00000102837   21929.415205    8612.473684\n",
              "ENSG00000164692   25453.959064    7183.263158\n",
              "ENSG00000168542   34219.365497   11489.578947\n",
              "ENSG00000108821   37559.435673    5615.842105\n",
              "ENSG00000156508   45933.961988  154458.315789\n",
              "\n",
              "[65217 rows x 2 columns]"
            ]
          },
          "execution_count": 39,
          "metadata": {},
          "output_type": "execute_result"
        }
      ],
      "source": [
        "result.sort_values(by=['k'])"
      ]
    },
    {
      "cell_type": "markdown",
      "metadata": {
        "id": "rBt2Xkxm_qUa"
      },
      "source": [
        "#### 3. Results"
      ]
    },
    {
      "cell_type": "markdown",
      "metadata": {
        "id": "Sfp9NMX3_qUa"
      },
      "source": [
        "In the models above 1 meant tumor tissue and 0 -- normal. Extremelly positive value of coefficient in linear model means tha this gene expresses in tumor tissue much more than in normal. These genes can be related with cancer. Top 5 are:"
      ]
    },
    {
      "cell_type": "markdown",
      "metadata": {
        "id": "EzYZHZmspuhX"
      },
      "source": [
        "\n",
        "\n",
        "ENSG00000198804 -  [MT-CO1](https://https://www.genecards.org/cgi-bin/carddisp.pl?gene=MT-CO1)\n",
        "\n",
        "ENSG00000210082 - [MT-RNR2](https://https://www.genecards.org/cgi-bin/carddisp.pl?gene=MT-RNR2&keywords=ENSG00000210082)\n",
        "\n",
        "ENSG00000211890 - [IGHA2](https://www.genecards.org/cgi-bin/carddisp.pl?gene=IGHA2&keywords=ENSG00000211890) \n",
        "\n",
        "ENSG00000162896 - [PIGR](https://https://www.genecards.org/cgi-bin/carddisp.pl?gene=PIGR&keywords=ENSG00000162896)\n",
        "\n",
        "ENSG00000132465 - [JCHAIN](https://https://www.genecards.org/cgi-bin/carddisp.pl?gene=JCHAIN&keywords=ENSG00000132465)\n",
        "\n",
        "Функции генов по ссылке"
      ]
    },
    {
      "cell_type": "markdown",
      "metadata": {
        "id": "l9n4f_5cRtJk"
      },
      "source": [
        "#### 5. Volcano plot"
      ]
    },
    {
      "cell_type": "code",
      "execution_count": 9,
      "metadata": {
        "id": "HTh3ifLnTfGU"
      },
      "outputs": [],
      "source": [
        "def p_value(gene_id, group_1, group_2):\n",
        "    \n",
        "    return sps.ttest_rel(group_1, group_2)[0]"
      ]
    },
    {
      "cell_type": "code",
      "execution_count": 10,
      "metadata": {
        "id": "J0-jLiyLThxm"
      },
      "outputs": [],
      "source": [
        "def fold_change(gene_id, group_1, group_2):\n",
        "    \n",
        "    return (np.mean(group_2)+ 0.0000001)/(np.mean(group_1) + 0.0000001)"
      ]
    },
    {
      "cell_type": "code",
      "execution_count": 11,
      "metadata": {
        "id": "yAyZqn0b252M"
      },
      "outputs": [],
      "source": [
        "normal_names = list(sampleData[sampleData['Sample Characteristic[biopsy site]'] == 'normal']['Run'])\n",
        "tumor_names = list(sampleData[sampleData['Sample Characteristic[biopsy site]'] == 'primary tumor']['Run'])\n",
        "normal_data = rawCounts[normal_names]\n",
        "tumor_data = rawCounts[tumor_names]"
      ]
    },
    {
      "cell_type": "code",
      "execution_count": 12,
      "metadata": {
        "colab": {
          "base_uri": "https://localhost:8080/"
        },
        "id": "rOICpgyF25Ob",
        "outputId": "e5417873-d8ea-4754-aa39-f52bfc240371"
      },
      "outputs": [
        {
          "name": "stderr",
          "output_type": "stream",
          "text": [
            "100%|██████████| 65217/65217 [00:56<00:00, 1156.83it/s]\n"
          ]
        }
      ],
      "source": [
        "genes=rawCounts.index\n",
        "p_val=[]\n",
        "for i in tqdm(range(len(genes))):\n",
        "  group1 = list(normal_data.loc[genes[i]])\n",
        "  group2 = list(tumor_data.loc[genes[i]])\n",
        "  l = min(len(group1),len(group2))\n",
        "  p_val.append(sps.ttest_rel  (group1[:l],group2[:l])[1])\n"
      ]
    },
    {
      "cell_type": "code",
      "execution_count": 13,
      "metadata": {
        "id": "CeSll5rzFGGd"
      },
      "outputs": [],
      "source": [
        "p_corrected = multipletests(p_val, alpha=0.1, method='holm')"
      ]
    },
    {
      "cell_type": "code",
      "execution_count": 14,
      "metadata": {
        "id": "VmJyToRy_Axl"
      },
      "outputs": [],
      "source": [
        "indexes = np.argsort(p_corrected[1])[:500]\n",
        "\n",
        "fold_list = []\n",
        "for j in indexes:\n",
        "  fold_list.append(fold_change(genes[j], normal_data.loc[genes[j]], tumor_data.loc[genes[j]]))"
      ]
    },
    {
      "cell_type": "code",
      "execution_count": 15,
      "metadata": {
        "id": "cQJW5ivfJixj"
      },
      "outputs": [],
      "source": [
        "X = np.log2(fold_list[:500])\n",
        "y=-np.log10(np.sort(p_corrected[1])[:500])"
      ]
    },
    {
      "cell_type": "code",
      "execution_count": 16,
      "metadata": {
        "id": "VZuP3jwVJ2xh"
      },
      "outputs": [],
      "source": [
        "X_d = []\n",
        "X_u = []\n",
        "y_d = []\n",
        "y_u=[]\n",
        "i_list = []\n",
        "p_p = -np.log10(0.05)\n",
        "for i in range(500):\n",
        "  if (X[i]<-1) and (y[i]>p_p):\n",
        "    X_d.append(X[i])\n",
        "    y_d.append(y[i])\n",
        "    i_list.append(i)\n",
        "  elif (X[i]>1) and (y[i]>p_p):\n",
        "    X_u.append(X[i])\n",
        "    y_u.append(y[i])\n"
      ]
    },
    {
      "cell_type": "code",
      "execution_count": 17,
      "metadata": {
        "colab": {
          "base_uri": "https://localhost:8080/",
          "height": 498
        },
        "id": "6j6XriusTo2R",
        "outputId": "42185884-616f-4758-bccb-d371ffbee1bf"
      },
      "outputs": [
        {
          "data": {
            "image/png": "[encoded data removed]",
            "text/plain": [
              "<Figure size 1080x576 with 1 Axes>"
            ]
          },
          "metadata": {
            "needs_background": "light"
          },
          "output_type": "display_data"
        }
      ],
      "source": [
        "plt.figure(figsize=(15,8))\n",
        "sns.set_style('whitegrid')\n",
        "plt.scatter(np.log2(fold_list[:500]), -np.log10(np.sort(p_corrected[1])[:500]),color= 'lightsteelblue')\n",
        "plt.vlines(-1,0,3, color='r')\n",
        "plt.vlines(1,0,3,color='r')\n",
        "plt.hlines(-np.log10(0.05),-22,22,color='r')\n",
        "plt.scatter(X_d,y_d, color='g', label='downregulated')\n",
        "plt.ylabel('−log10(pvalue)')\n",
        "plt.xlabel('log2(fold_change)')\n",
        "plt.legend()\n",
        "plt.show()"
      ]
    },
    {
      "cell_type": "code",
      "execution_count": 18,
      "metadata": {
        "colab": {
          "base_uri": "https://localhost:8080/"
        },
        "id": "h6LkGsd7PoQJ",
        "outputId": "af33fccf-5ed9-4a32-9432-987bb25ae53e"
      },
      "outputs": [
        {
          "data": {
            "text/plain": [
              "Index(['ENSG00000183034', 'ENSG00000142959', 'ENSG00000269404',\n",
              "       'ENSG00000182938', 'ENSG00000228307', 'ENSG00000168748',\n",
              "       'ENSG00000253701'],\n",
              "      dtype='object', name='Gene ID')"
            ]
          },
          "execution_count": 18,
          "metadata": {},
          "output_type": "execute_result"
        }
      ],
      "source": [
        "genes[indexes[i_list]]"
      ]
    },
    {
      "cell_type": "code",
      "execution_count": 19,
      "metadata": {
        "colab": {
          "base_uri": "https://localhost:8080/"
        },
        "id": "aoTNbCTlP7vo",
        "outputId": "41646704-c962-46c6-bcf3-e2d74fc3007c"
      },
      "outputs": [
        {
          "name": "stdout",
          "output_type": "stream",
          "text": [
            "OTOP2\n",
            "BEST4\n",
            "SPIB\n",
            "OTOP3\n",
            "OR2S1P\n",
            "CA7\n",
            "nan\n"
          ]
        }
      ],
      "source": [
        "down_gene = genes[indexes[i_list]]\n",
        "for gene in down_gene:\n",
        "  print(gene_dict[gene])"
      ]
    },
    {
      "cell_type": "code",
      "execution_count": 25,
      "metadata": {
        "id": "OqR1KoDSol0P"
      },
      "outputs": [],
      "source": [
        "relev_ind = list(set(((X>-8) & (X<8))*np.arange(500)))"
      ]
    },
    {
      "cell_type": "code",
      "execution_count": 26,
      "metadata": {
        "colab": {
          "base_uri": "https://localhost:8080/",
          "height": 498
        },
        "id": "HxUWFGmioTRm",
        "outputId": "94b10a67-51d7-47d3-9793-4f19844d22d1"
      },
      "outputs": [
        {
          "data": {
            "image/png": "[encoded data removed]",
            "text/plain": [
              "<Figure size 1080x576 with 1 Axes>"
            ]
          },
          "metadata": {},
          "output_type": "display_data"
        }
      ],
      "source": [
        "plt.figure(figsize=(15,8))\n",
        "sns.set_style('whitegrid')\n",
        "plt.scatter(X[relev_ind], y[relev_ind],color= 'lightsteelblue')\n",
        "plt.vlines(-1,0,3, color='r')\n",
        "plt.vlines(1,0,3,color='r')\n",
        "plt.hlines(-np.log10(0.05),-8,8,color='r')\n",
        "plt.scatter(X_d,y_d, color='g', label='downregulated')\n",
        "plt.ylabel('−log10(pvalue)')\n",
        "plt.xlabel('log2(fold_change)')\n",
        "plt.legend()\n",
        "plt.show()"
      ]
    },
    {
      "cell_type": "markdown",
      "metadata": {
        "id": "a6lKfm4vRtJu"
      },
      "source": [
        "Here we can also see that OTOP2\n",
        "BEST4\n",
        "SPIB\n",
        "OTOP3\n",
        "OR2S1P\n",
        "CA7 are statistically significantly expressed in smaller amounts in cancer cells"
      ]
    },
    {
      "cell_type": "code",
      "execution_count": null,
      "metadata": {
        "id": "NOuR9zlyqO6x"
      },
      "outputs": [],
      "source": []
    }
  ],
  "metadata": {
    "colab": {
      "collapsed_sections": [],
      "name": "Копия блокнота \"biotask_dge.ipynb\"",
      "provenance": []
    },
    "kernelspec": {
      "display_name": "Python 3.9.12 ('base')",
      "language": "python",
      "name": "python3"
    },
    "language_info": {
      "codemirror_mode": {
        "name": "ipython",
        "version": 3
      },
      "file_extension": ".py",
      "mimetype": "text/x-python",
      "name": "python",
      "nbconvert_exporter": "python",
      "pygments_lexer": "ipython3",
      "version": "3.9.12"
    },
    "vscode": {
      "interpreter": {
        "hash": "f08154012ddadd8e950e6e9e035c7a7b32c136e7647e9b7c77e02eb723a8bedb"
      }
    }
  },
  "nbformat": 4,
  "nbformat_minor": 0
}
